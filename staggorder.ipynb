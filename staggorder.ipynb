{
 "cells": [
  {
   "cell_type": "code",
   "execution_count": 1,
   "metadata": {},
   "outputs": [],
   "source": [
    "using CPTVCA\n",
    "using ExactDiagonalization\n",
    "using QuantumLattices\n",
    "using Distributed\n",
    "using Plots"
   ]
  },
  {
   "cell_type": "code",
   "execution_count": 2,
   "metadata": {},
   "outputs": [
    {
     "data": {
      "text/plain": [
       "(Term{:Hopping, :t, ComplexF64, Int64, QuantumLattices.DegreesOfFreedom.TermCoupling{Coupling{Int64, Tuple{Index{Colon, FID{:*, Colon, Colon, Colon}}, Index{Colon, FID{:*, Colon, Colon, Colon}}}, Constraint{(2,), 1, Tuple{QuantumLattices.DegreesOfFreedom.Diagonal{(:orbital, :spin)}}}}, Coupling{Int64, Tuple{Index{Colon, FID{:*, Colon, Colon, Colon}}, Index{Colon, FID{:*, Colon, Colon, Colon}}}, Constraint{(2,), 1, Tuple{QuantumLattices.DegreesOfFreedom.Diagonal{(:orbital, :spin)}}}}}, QuantumLattices.DegreesOfFreedom.TermAmplitude{Nothing}, QuantumLattices.DegreesOfFreedom.TermModulate{Val{true}, :t}}(-1.0 + 0.0im, 1, QuantumLattices.DegreesOfFreedom.TermCoupling{Coupling{Int64, Tuple{Index{Colon, FID{:*, Colon, Colon, Colon}}, Index{Colon, FID{:*, Colon, Colon, Colon}}}, Constraint{(2,), 1, Tuple{QuantumLattices.DegreesOfFreedom.Diagonal{(:orbital, :spin)}}}}, Coupling{Int64, Tuple{Index{Colon, FID{:*, Colon, Colon, Colon}}, Index{Colon, FID{:*, Colon, Colon, Colon}}}, Constraint{(2,), 1, Tuple{QuantumLattices.DegreesOfFreedom.Diagonal{(:orbital, :spin)}}}}}(∑[Index(:, FID(:, :, :)) Index(:, FID(:, :, :))]), QuantumLattices.DegreesOfFreedom.TermAmplitude{Nothing}(nothing), false, QuantumLattices.DegreesOfFreedom.TermModulate{Val{true}, :t}(Val{true}()), 1.0 + 0.0im), Term{:Hubbard, :U, ComplexF64, Int64, QuantumLattices.DegreesOfFreedom.TermCoupling{Coupling{Int64, NTuple{4, Index{Colon, FID{:*, Colon, Rational{Int64}, Int64}}}, Constraint{(4,), 1, Tuple{QuantumLattices.DegreesOfFreedom.Diagonal{(:orbital,)}}}}, Coupling{Int64, NTuple{4, Index{Colon, FID{:*, Colon, Rational{Int64}, Int64}}}, Constraint{(4,), 1, Tuple{QuantumLattices.DegreesOfFreedom.Diagonal{(:orbital,)}}}}}, QuantumLattices.DegreesOfFreedom.TermAmplitude{Nothing}, QuantumLattices.DegreesOfFreedom.TermModulate{Val{true}, :U}}(0.0 + 0.0im, 0, QuantumLattices.DegreesOfFreedom.TermCoupling{Coupling{Int64, NTuple{4, Index{Colon, FID{:*, Colon, Rational{Int64}, Int64}}}, Constraint{(4,), 1, Tuple{QuantumLattices.DegreesOfFreedom.Diagonal{(:orbital,)}}}}, Coupling{Int64, NTuple{4, Index{Colon, FID{:*, Colon, Rational{Int64}, Int64}}}, Constraint{(4,), 1, Tuple{QuantumLattices.DegreesOfFreedom.Diagonal{(:orbital,)}}}}}(∑[Index(:, FID(:, 1//2, 2)) Index(:, FID(:, 1//2, 1)) Index(:, FID(:, -1//2, 2)) Index(:, FID(:, -1//2, 1))]), QuantumLattices.DegreesOfFreedom.TermAmplitude{Nothing}(nothing), true, QuantumLattices.DegreesOfFreedom.TermModulate{Val{true}, :U}(Val{true}()), 1.0 + 0.0im), Term{:Onsite, :μ, ComplexF64, Int64, QuantumLattices.DegreesOfFreedom.TermCoupling{Coupling{Int64, Tuple{Index{Colon, FID{:*, Colon, Colon, Colon}}, Index{Colon, FID{:*, Colon, Colon, Colon}}}, Constraint{(2,), 1, Tuple{QuantumLattices.DegreesOfFreedom.Diagonal{(:orbital, :spin)}}}}, Coupling{Int64, Tuple{Index{Colon, FID{:*, Colon, Colon, Colon}}, Index{Colon, FID{:*, Colon, Colon, Colon}}}, Constraint{(2,), 1, Tuple{QuantumLattices.DegreesOfFreedom.Diagonal{(:orbital, :spin)}}}}}, QuantumLattices.DegreesOfFreedom.TermAmplitude{Nothing}, QuantumLattices.DegreesOfFreedom.TermModulate{Val{true}, :μ}}(-0.0 + 0.0im, 0, QuantumLattices.DegreesOfFreedom.TermCoupling{Coupling{Int64, Tuple{Index{Colon, FID{:*, Colon, Colon, Colon}}, Index{Colon, FID{:*, Colon, Colon, Colon}}}, Constraint{(2,), 1, Tuple{QuantumLattices.DegreesOfFreedom.Diagonal{(:orbital, :spin)}}}}, Coupling{Int64, Tuple{Index{Colon, FID{:*, Colon, Colon, Colon}}, Index{Colon, FID{:*, Colon, Colon, Colon}}}, Constraint{(2,), 1, Tuple{QuantumLattices.DegreesOfFreedom.Diagonal{(:orbital, :spin)}}}}}(∑[Index(:, FID(:, :, :)) Index(:, FID(:, :, :))]), QuantumLattices.DegreesOfFreedom.TermAmplitude{Nothing}(nothing), true, QuantumLattices.DegreesOfFreedom.TermModulate{Val{true}, :μ}(Val{true}()), 1.0 + 0.0im), Term{:Onsite, :af, ComplexF64, Int64, QuantumLattices.DegreesOfFreedom.TermCoupling{Coupling{Int64, Tuple{Index{Colon, FID{:*, Colon, Rational{Int64}, Colon}}, Index{Colon, FID{:*, Colon, Rational{Int64}, Colon}}}, Constraint{(2,), 1, Tuple{QuantumLattices.DegreesOfFreedom.Diagonal{(:orbital,)}}}}, MatrixCoupling{FID, Colon, Tuple{Component{Colon, Int64, StaticArraysCore.SVector{1, Colon}}, Component{Rational{Int64}, Int64, StepRange{Rational{Int64}, Int64}}, Component{Colon, Int64, StaticArraysCore.SVector{1, Colon}}}}}, QuantumLattices.DegreesOfFreedom.TermAmplitude{CPTVCA.var\"#bondfunction#55\"{Vector{Irrational{:π}}}}, QuantumLattices.DegreesOfFreedom.TermModulate{Val{true}, :af}}(0.0 + 0.0im, 0, QuantumLattices.DegreesOfFreedom.TermCoupling{Coupling{Int64, Tuple{Index{Colon, FID{:*, Colon, Rational{Int64}, Colon}}, Index{Colon, FID{:*, Colon, Rational{Int64}, Colon}}}, Constraint{(2,), 1, Tuple{QuantumLattices.DegreesOfFreedom.Diagonal{(:orbital,)}}}}, MatrixCoupling{FID, Colon, Tuple{Component{Colon, Int64, StaticArraysCore.SVector{1, Colon}}, Component{Rational{Int64}, Int64, StepRange{Rational{Int64}, Int64}}, Component{Colon, Int64, StaticArraysCore.SVector{1, Colon}}}}}(Coupling{Int64, Tuple{Index{Colon, FID{:*, Colon, Rational{Int64}, Colon}}, Index{Colon, FID{:*, Colon, Rational{Int64}, Colon}}}, Constraint{(2,), 1, Tuple{QuantumLattices.DegreesOfFreedom.Diagonal{(:orbital,)}}}}[∑[Index(:, FID(:, 1//2, :)) Index(:, FID(:, 1//2, :))], - ∑[Index(:, FID(:, -1//2, :)) Index(:, FID(:, -1//2, :))]]), QuantumLattices.DegreesOfFreedom.TermAmplitude{CPTVCA.var\"#bondfunction#55\"{Vector{Irrational{:π}}}}(CPTVCA.var\"#bondfunction#55\"{Vector{Irrational{:π}}}([π, π])), true, QuantumLattices.DegreesOfFreedom.TermModulate{Val{true}, :af}(Val{true}()), 1.0 + 0.0im))"
      ]
     },
     "metadata": {},
     "output_type": "display_data"
    }
   ],
   "source": [
    "unitcell = Lattice([0, 0]; vectors=[[1, 0],[0, 1]])\n",
    "cluster = Lattice(unitcell,(2,2),('p','p'))\n",
    "hilbert = Hilbert(site=>Fock{:f}(1, 2) for site=1:length(cluster))\n",
    "cons= Conservation(4, 1//2; np=4, sz=0)\n",
    "t = Hopping(:t, Complex(-1.0), 1)\n",
    "U = Hubbard(:U, Complex(0.0))\n",
    "μ = Onsite(:μ, Complex(-0.0))\n",
    "origiterms = (t, U, μ)\n",
    "t_r = Hopping(:t, Complex(-1.0), 1)\n",
    "af = Onsite(:af, Complex(0.0), MatrixCoupling(:, FID, :, σ\"z\", :); amplitude=antiferro([π, π]))\n",
    "referterms = (t_r, U, μ, af)"
   ]
  },
  {
   "cell_type": "code",
   "execution_count": 3,
   "metadata": {},
   "outputs": [
    {
     "data": {
      "text/plain": [
       "Neighbors{Int64, Float64} with 2 entries:\n",
       "  0 => 0.0\n",
       "  1 => 1.0"
      ]
     },
     "metadata": {},
     "output_type": "display_data"
    }
   ],
   "source": [
    "varparams = [(af = a,) for a in range(0,0.3,50)]\n",
    "rz = ReciprocalZone(reciprocals(cluster.vectors); length=100)\n",
    "neighbors = Neighbors(0=>0.0, 1=>1.0)"
   ]
  },
  {
   "cell_type": "code",
   "execution_count": 4,
   "metadata": {},
   "outputs": [
    {
     "name": "stdout",
     "output_type": "stream",
     "text": [
      "      From worker 10:\t\u001b[32m\u001b[1m  Activating\u001b[22m\u001b[39m project at `~/Library/Mobile Documents/com~apple~CloudDocs/mygit/CPTVCA`\n",
      "      From worker 2:\t\u001b[32m\u001b[1m  Activating\u001b[22m\u001b[39m project at `~/Library/Mobile Documents/com~apple~CloudDocs/mygit/CPTVCA`\n",
      "      From worker 4:\t\u001b[32m\u001b[1m  Activating\u001b[22m\u001b[39m project at `~/Library/Mobile Documents/com~apple~CloudDocs/mygit/CPTVCA`\n",
      "      From worker 5:\t\u001b[32m\u001b[1m  Activating\u001b[22m\u001b[39m project at `~/Library/Mobile Documents/com~apple~CloudDocs/mygit/CPTVCA`\n",
      "      From worker 8:\t\u001b[32m\u001b[1m  Activating\u001b[22m\u001b[39m project at `~/Library/Mobile Documents/com~apple~CloudDocs/mygit/CPTVCA`\n",
      "      From worker 6:\t\u001b[32m\u001b[1m  Activating\u001b[22m\u001b[39m project at `~/Library/Mobile Documents/com~apple~CloudDocs/mygit/CPTVCA`\n"
     ]
    },
    {
     "name": "stdout",
     "output_type": "stream",
     "text": [
      "      From worker 7:\t\u001b[32m\u001b[1m  Activating\u001b[22m\u001b[39m project at `~/Library/Mobile Documents/com~apple~CloudDocs/mygit/CPTVCA`\n",
      "      From worker 3:\t\u001b[32m\u001b[1m  Activating\u001b[22m\u001b[39m project at `~/Library/Mobile Documents/com~apple~CloudDocs/mygit/CPTVCA`\n",
      "      From worker 11:\t\u001b[32m\u001b[1m  Activating\u001b[22m\u001b[39m project at `~/Library/Mobile Documents/com~apple~CloudDocs/mygit/CPTVCA`\n",
      "      From worker 12:\t\u001b[32m\u001b[1m  Activating\u001b[22m\u001b[39m project at `~/Library/Mobile Documents/com~apple~CloudDocs/mygit/CPTVCA`\n",
      "      From worker 9:\t\u001b[32m\u001b[1m  Activating\u001b[22m\u001b[39m project at `~/Library/Mobile Documents/com~apple~CloudDocs/mygit/CPTVCA`\n"
     ]
    },
    {
     "name": "stdout",
     "output_type": "stream",
     "text": [
      " 40.195092 seconds (9.35 M allocations: 543.097 MiB, 0.66% gc time, 6.63% compilation time: 0% of which was recompilation)\n"
     ]
    },
    {
     "name": "stdout",
     "output_type": "stream",
     "text": [
      " 73.401172 seconds (3.52 M allocations: 198.815 MiB, 0.06% gc time, 0.95% compilation time)\n"
     ]
    },
    {
     "data": {
      "text/plain": [
       "50-element Vector{Float64}:\n",
       " -1.6210722772163386\n",
       " -1.6210722794995718\n",
       " -1.6210722794995696\n",
       " -1.6210722794995704\n",
       " -1.6210722794995684\n",
       " -1.6210722794995716\n",
       " -1.621072279499574\n",
       " -1.6210722794995727\n",
       " -1.6210722794995664\n",
       " -1.6210722794995687\n",
       "  ⋮\n",
       " -1.6210722788451526\n",
       " -1.621072278845147\n",
       " -1.621072278845153\n",
       " -1.6210722788451488\n",
       " -1.621072278845147\n",
       " -1.6210722788451513\n",
       " -1.6210722788451541\n",
       " -1.6210722788451508\n",
       " -1.6210722788451513"
      ]
     },
     "metadata": {},
     "output_type": "display_data"
    }
   ],
   "source": [
    "spawn(11)\n",
    "@time vcas = pmap(param -> VCA(unitcell, cluster, hilbert, origiterms, referterms, cons, param; neighbors=neighbors, m=200), varparams)\n",
    "#saveData(vcas, \"./temp/squareL4_af.jls\")\n",
    "#vcas = loadData(\"./temp/squareL4_af.jls\")\n",
    "#@time gps = pmap(vca -> GrandPotential(vca, rz, real(Parameters(vca.refergenerator)[:U]/2)), vcas)\n",
    "@time gps = pmap(vca -> GrandPotential(vca, rz, 0), vcas)\n",
    "#saveData(gps, \"./temp/squareL4af_gp.jls\")\n",
    "#gps = loadData(\"./temp/squareL4af_gp.jls\")\n",
    "g1 = [gp[1] for gp in gps]"
   ]
  },
  {
   "cell_type": "code",
   "execution_count": 6,
   "metadata": {},
   "outputs": [
    {
     "data": {
      "text/plain": [
       "50-element Vector{Float64}:\n",
       " -0.4574131948435344\n",
       " -0.4593282642293541\n",
       " -0.46465241074855795\n",
       " -0.4722780346680901\n",
       " -0.4807817913917499\n",
       " -0.4888085673249425\n",
       " -0.4953168450629376\n",
       " -0.49965421790710646\n",
       " -0.5015148693908104\n",
       " -0.5008474817926964\n",
       "  ⋮\n",
       "  0.043995686657018154\n",
       "  0.06596922333914317\n",
       "  0.088028395398003\n",
       "  0.11016790137144929\n",
       "  0.1323828621649905\n",
       "  0.15466877892355207\n",
       "  0.1770214959981136\n",
       "  0.1994371682914752\n",
       "  0.22191223237754382"
      ]
     },
     "metadata": {},
     "output_type": "display_data"
    }
   ],
   "source": [
    "g2 = [gp[2] for gp in gps]"
   ]
  },
  {
   "cell_type": "code",
   "execution_count": 7,
   "metadata": {},
   "outputs": [
    {
     "data": {
      "text/plain": [
       "50-element Vector{Float64}:\n",
       "  0.0\n",
       "  0.0\n",
       " -8.881784197001252e-16\n",
       "  8.881784197001252e-16\n",
       "  8.881784197001252e-16\n",
       "  0.0\n",
       "  0.0\n",
       "  0.0\n",
       " -8.881784197001252e-16\n",
       "  8.881784197001252e-16\n",
       "  ⋮\n",
       "  0.0\n",
       "  0.0\n",
       "  0.0\n",
       " -8.881784197001252e-16\n",
       " -8.881784197001252e-16\n",
       "  8.881784197001252e-16\n",
       "  0.0\n",
       "  0.0\n",
       "  0.0"
      ]
     },
     "metadata": {},
     "output_type": "display_data"
    }
   ],
   "source": [
    "g3 = [gp[3] for gp in gps]"
   ]
  },
  {
   "cell_type": "code",
   "execution_count": 6,
   "metadata": {},
   "outputs": [
    {
     "data": {
      "text/plain": [
       "50-element Vector{Float64}:\n",
       " -17.320234958271907\n",
       " -17.32131474325577\n",
       " -17.32451814993638\n",
       " -17.32974334552558\n",
       " -17.33683843773915\n",
       " -17.345621832240514\n",
       " -17.355901643498026\n",
       " -17.367490672121164\n",
       " -17.380215919217385\n",
       " -17.393923306966265\n",
       "   ⋮\n",
       " -18.013058164321958\n",
       " -18.034523293584762\n",
       " -18.056044575976507\n",
       " -18.077619615545593\n",
       " -18.099246168792245\n",
       " -18.120922131679354\n",
       " -18.14264552803175\n",
       " -18.164414499152308\n",
       " -18.186227294498828"
      ]
     },
     "metadata": {},
     "output_type": "display_data"
    }
   ],
   "source": [
    "gses = [vca.solver.sysvals.gsenergy for vca in vcas]"
   ]
  },
  {
   "cell_type": "code",
   "execution_count": 10,
   "metadata": {},
   "outputs": [
    {
     "name": "stdout",
     "output_type": "stream",
     "text": [
      "  0.678298 seconds (899.64 k allocations: 94.934 MiB, 6.36% gc time, 5.05% compilation time)\n"
     ]
    },
    {
     "name": "stdout",
     "output_type": "stream",
     "text": [
      " 12.979016 seconds (345.99 k allocations: 37.488 MiB, 0.47% compilation time)\n"
     ]
    },
    {
     "data": {
      "text/plain": [
       "50-element Vector{Float64}:\n",
       " -3.999999999999995\n",
       " -4.000000000000042\n",
       " -3.999999999999903\n",
       " -3.9999999999999756\n",
       " -3.999999999999974\n",
       " -3.999999999999909\n",
       " -3.999999999999987\n",
       " -4.0\n",
       " -4.000000000000069\n",
       " -4.000000000000067\n",
       "  ⋮\n",
       " -4.000000000000026\n",
       " -4.000000000000003\n",
       " -3.9999999999999423\n",
       " -3.999999999999992\n",
       " -3.9999999999999294\n",
       " -3.9999999999999383\n",
       " -4.000000000000063\n",
       " -4.000000000000031\n",
       " -4.000000000000023"
      ]
     },
     "metadata": {},
     "output_type": "display_data"
    }
   ],
   "source": [
    "neighbors0 = Neighbors(0=>0.0)\n",
    "@time vcas0 = pmap(param -> VCA(unitcell, cluster, hilbert, origiterms, referterms, cons, param; neighbors=neighbors0, m=200), varparams)\n",
    "@time gps0 = pmap(vca -> GrandPotential(vca, rz, 0), vcas0)\n",
    "g1 = [gp0[1] for gp0 in gps0]"
   ]
  },
  {
   "cell_type": "code",
   "execution_count": 11,
   "metadata": {},
   "outputs": [
    {
     "data": {
      "text/plain": [
       "50-element Vector{Float64}:\n",
       " -0.0\n",
       "  0.024489795918201097\n",
       "  0.04897959183712926\n",
       "  0.0734693877551795\n",
       "  0.09795918367354554\n",
       "  0.12244897959216876\n",
       "  0.1469387755102555\n",
       "  0.17142857142855217\n",
       "  0.195918367346668\n",
       "  0.22040816326503132\n",
       "  ⋮\n",
       "  1.004081632652961\n",
       "  1.02857142857143\n",
       "  1.0530612244900581\n",
       "  1.077551020408177\n",
       "  1.1020408163268332\n",
       "  1.1265306122451064\n",
       "  1.151020408163012\n",
       "  1.1755102040814858\n",
       "  1.1999999999998732"
      ]
     },
     "metadata": {},
     "output_type": "display_data"
    }
   ],
   "source": [
    "g2 = [gp0[2] for gp0 in gps0]"
   ]
  },
  {
   "cell_type": "code",
   "execution_count": 12,
   "metadata": {},
   "outputs": [
    {
     "data": {
      "text/plain": [
       "50-element Vector{Float64}:\n",
       "  0.0\n",
       "  0.0\n",
       " -8.881784197001252e-16\n",
       "  8.881784197001252e-16\n",
       "  8.881784197001252e-16\n",
       "  0.0\n",
       "  0.0\n",
       "  0.0\n",
       " -8.881784197001252e-16\n",
       "  8.881784197001252e-16\n",
       "  ⋮\n",
       "  0.0\n",
       "  0.0\n",
       "  0.0\n",
       " -8.881784197001252e-16\n",
       " -8.881784197001252e-16\n",
       "  8.881784197001252e-16\n",
       "  0.0\n",
       "  0.0\n",
       "  0.0"
      ]
     },
     "metadata": {},
     "output_type": "display_data"
    }
   ],
   "source": [
    "g3 = [gp0[3] for gp0 in gps0]"
   ]
  },
  {
   "cell_type": "code",
   "execution_count": 6,
   "metadata": {},
   "outputs": [
    {
     "data": {
      "text/plain": [
       "50-element Vector{Float64}:\n",
       " -15.999999999999986\n",
       " -16.02448979591836\n",
       " -16.04897959183674\n",
       " -16.073469387755107\n",
       " -16.09795918367347\n",
       " -16.12244897959183\n",
       " -16.146938775510208\n",
       " -16.171428571428592\n",
       " -16.195918367346945\n",
       " -16.220408163265322\n",
       "   ⋮\n",
       " -17.004081632653104\n",
       " -17.028571428571457\n",
       " -17.053061224489813\n",
       " -17.07755102040818\n",
       " -17.102040816326536\n",
       " -17.126530612244917\n",
       " -17.151020408163276\n",
       " -17.175510204081643\n",
       " -17.20000000000002"
      ]
     },
     "metadata": {},
     "output_type": "display_data"
    }
   ],
   "source": [
    "gses0 = [vca.solver.sysvals.gsenergy for vca in vcas0]"
   ]
  },
  {
   "cell_type": "code",
   "execution_count": 17,
   "metadata": {},
   "outputs": [
    {
     "name": "stdout",
     "output_type": "stream",
     "text": [
      "  0.610521 seconds (960.88 k allocations: 100.764 MiB, 20.46% gc time, 7.07% compilation time)\n"
     ]
    },
    {
     "name": "stdout",
     "output_type": "stream",
     "text": [
      " 80.092107 seconds (384.43 k allocations: 38.646 MiB, 0.05% compilation time)\n"
     ]
    },
    {
     "data": {
      "text/plain": [
       "50-element Vector{Float64}:\n",
       " -1.6210722771736168\n",
       " -1.621072277173473\n",
       " -1.6210722772400366\n",
       " -1.621072277174236\n",
       " -1.6210722771979953\n",
       " -1.6210722771797288\n",
       " -1.6210722771997417\n",
       " -1.6210722771799886\n",
       " -1.62107227722877\n",
       " -1.6210722772760047\n",
       "  ⋮\n",
       " -1.6210722771990365\n",
       " -1.621072277187448\n",
       " -1.6210722772227137\n",
       " -1.621072277172623\n",
       " -1.621072277201054\n",
       " -1.6210722771974169\n",
       " -1.6210722772272321\n",
       " -1.6210722771941006\n",
       " -1.621072277151002"
      ]
     },
     "metadata": {},
     "output_type": "display_data"
    }
   ],
   "source": [
    "neighbors1 = Neighbors(1=>1.0)\n",
    "@time vcas1 = pmap(param -> VCA(unitcell, cluster, hilbert, origiterms, referterms, cons, param; neighbors=neighbors1, m=200), varparams)\n",
    "@time gps1 = pmap(vca -> GrandPotential(vca, rz, 0), vcas1)\n",
    "g1 = [gp1[1] for gp1 in gps1]"
   ]
  },
  {
   "cell_type": "code",
   "execution_count": 15,
   "metadata": {},
   "outputs": [
    {
     "data": {
      "text/plain": [
       "50-element Vector{Float64}:\n",
       " -2.484289108785349\n",
       " -2.4842891089242323\n",
       " -2.4842891088053074\n",
       " -2.484289108922508\n",
       " -2.484289108982929\n",
       " -2.4842891087704753\n",
       " -2.4842891091162214\n",
       " -2.484289108697339\n",
       " -2.484289108939532\n",
       " -2.4842891089447754\n",
       "  ⋮\n",
       " -2.4842891089940062\n",
       " -2.484289108802637\n",
       " -2.4842891087768626\n",
       " -2.4842891088650108\n",
       " -2.48428910869326\n",
       " -2.4842891087142878\n",
       " -2.4842891088723587\n",
       " -2.4842891086695253\n",
       " -2.4842891087468777"
      ]
     },
     "metadata": {},
     "output_type": "display_data"
    }
   ],
   "source": [
    "g2 = [gp1[2] for gp1 in gps1]"
   ]
  },
  {
   "cell_type": "code",
   "execution_count": 16,
   "metadata": {},
   "outputs": [
    {
     "data": {
      "text/plain": [
       "50-element Vector{Float64}:\n",
       " 0.0\n",
       " 0.0\n",
       " 0.0\n",
       " 0.0\n",
       " 0.0\n",
       " 0.0\n",
       " 0.0\n",
       " 0.0\n",
       " 0.0\n",
       " 0.0\n",
       " ⋮\n",
       " 0.0\n",
       " 0.0\n",
       " 0.0\n",
       " 0.0\n",
       " 0.0\n",
       " 0.0\n",
       " 0.0\n",
       " 0.0\n",
       " 0.0"
      ]
     },
     "metadata": {},
     "output_type": "display_data"
    }
   ],
   "source": [
    "g3 =[gp1[3] for gp1 in gps1]"
   ]
  },
  {
   "cell_type": "code",
   "execution_count": 12,
   "metadata": {},
   "outputs": [
    {
     "data": {
      "text/plain": [
       "50-element Vector{Float64}:\n",
       " -3.999999999999992\n",
       " -3.999999999999992\n",
       " -3.999999999999991\n",
       " -3.999999999999993\n",
       " -3.999999999999991\n",
       " -3.999999999999994\n",
       " -4.0\n",
       " -3.999999999999994\n",
       " -4.0\n",
       " -3.9999999999999893\n",
       "  ⋮\n",
       " -3.999999999999993\n",
       " -3.9999999999999947\n",
       " -3.999999999999991\n",
       " -4.000000000000001\n",
       " -3.999999999999993\n",
       " -3.999999999999991\n",
       " -4.0\n",
       " -3.9999999999999893\n",
       " -3.999999999999993"
      ]
     },
     "metadata": {},
     "output_type": "display_data"
    }
   ],
   "source": [
    "gses1 = [vca.solver.sysvals.gsenergy for vca in vcas1]"
   ]
  },
  {
   "cell_type": "code",
   "execution_count": 21,
   "metadata": {},
   "outputs": [
    {
     "name": "stdout",
     "output_type": "stream",
     "text": [
      "      From worker 12:\t\u001b[32m\u001b[1m  Activating\u001b[22m\u001b[39m project at `C:\\Users\\ZYJok\\code\\mypackage\\QuantumClusterTheory`\n",
      "      From worker 7:\t\u001b[32m\u001b[1m  Activating\u001b[22m\u001b[39m project at `C:\\Users\\ZYJok\\code\\mypackage\\QuantumClusterTheory`\n"
     ]
    },
    {
     "name": "stdout",
     "output_type": "stream",
     "text": [
      "      From worker 4:\t\u001b[32m\u001b[1m  Activating\u001b[22m\u001b[39m project at `C:\\Users\\ZYJok\\code\\mypackage\\QuantumClusterTheory`\n"
     ]
    },
    {
     "name": "stdout",
     "output_type": "stream",
     "text": [
      "      From worker 13:\t\u001b[32m\u001b[1m  Activating\u001b[22m\u001b[39m project at `C:\\Users\\ZYJok\\code\\mypackage\\QuantumClusterTheory`\n",
      "      From worker 10:\t\u001b[32m\u001b[1m  Activating\u001b[22m\u001b[39m project at `C:\\Users\\ZYJok\\code\\mypackage\\QuantumClusterTheory`\n"
     ]
    },
    {
     "name": "stdout",
     "output_type": "stream",
     "text": [
      "      From worker 2:\t\u001b[32m\u001b[1m  Activating\u001b[22m\u001b[39m project at `C:\\Users\\ZYJok\\code\\mypackage\\QuantumClusterTheory`\n"
     ]
    },
    {
     "name": "stdout",
     "output_type": "stream",
     "text": [
      "      From worker 6:\t\u001b[32m\u001b[1m  Activating\u001b[22m\u001b[39m project at `C:\\Users\\ZYJok\\code\\mypackage\\QuantumClusterTheory`\n"
     ]
    },
    {
     "name": "stdout",
     "output_type": "stream",
     "text": [
      "      From worker 11:\t\u001b[32m\u001b[1m  Activating\u001b[22m\u001b[39m project at `C:\\Users\\ZYJok\\code\\mypackage\\QuantumClusterTheory`\n"
     ]
    },
    {
     "name": "stdout",
     "output_type": "stream",
     "text": [
      "      From worker 3:\t\u001b[32m\u001b[1m  Activating\u001b[22m\u001b[39m project at `C:\\Users\\ZYJok\\code\\mypackage\\QuantumClusterTheory`\n"
     ]
    },
    {
     "name": "stdout",
     "output_type": "stream",
     "text": [
      "      From worker 5:\t\u001b[32m\u001b[1m  Activating\u001b[22m\u001b[39m project at `C:\\Users\\ZYJok\\code\\mypackage\\QuantumClusterTheory`\n"
     ]
    },
    {
     "name": "stdout",
     "output_type": "stream",
     "text": [
      "      From worker 8:\t\u001b[32m\u001b[1m  Activating\u001b[22m\u001b[39m project at `C:\\Users\\ZYJok\\code\\mypackage\\QuantumClusterTheory`\n"
     ]
    },
    {
     "name": "stdout",
     "output_type": "stream",
     "text": [
      "      From worker 9:\t\u001b[32m\u001b[1m  Activating\u001b[22m\u001b[39m project at `C:\\Users\\ZYJok\\code\\mypackage\\QuantumClusterTheory`\n"
     ]
    },
    {
     "data": {
      "text/plain": [
       "5×50 Matrix{Float64}:\n",
       " -1.03281   -1.04061   -1.05729   …  -1.1276    -1.12735   -1.12709\n",
       " -0.730227  -0.731821  -0.736286     -0.815596  -0.815435  -0.815266\n",
       " -0.444412  -0.445161  -0.447293     -0.491406  -0.491244  -0.491079\n",
       " -0.314028  -0.314762  -0.316802     -0.341809  -0.341632  -0.341455\n",
       " -0.241285  -0.242104  -0.244296     -0.259329  -0.25917   -0.259012"
      ]
     },
     "metadata": {},
     "output_type": "display_data"
    }
   ],
   "source": [
    "varparams = [(U = u, af = a) for u in [2,4,8,12,16], a in range(0, 0.3, 50)]\n",
    "rz = ReciprocalZone(reciprocals(cluster.vectors); length=100)\n",
    "spawn(11)\n",
    "vcas = pmap(param -> VCA(unitcell, cluster, hilbert, origiterms, referterms, cons, param; neighbors=neighbors, m=200), varparams)\n",
    "gps = pmap(vca -> GrandPotential(vca, rz, real(Parameters(vca.refergenerator)[:U]/2)), vcas)"
   ]
  },
  {
   "cell_type": "code",
   "execution_count": 22,
   "metadata": {},
   "outputs": [
    {
     "data": {
      "image/png": "[encoded data removed]",
      "image/svg+xml": [
       "<?xml version=\"1.0\" encoding=\"utf-8\"?>\n",
       "<svg xmlns=\"http://www.w3.org/2000/svg\" xmlns:xlink=\"http://www.w3.org/1999/xlink\" width=\"600\" height=\"400\" viewBox=\"0 0 2400 1600\">\n",
       "<defs>\n",
       "  <clipPath id=\"clip250\">\n",
       "    <rect x=\"0\" y=\"0\" width=\"2400\" height=\"1600\"/>\n",
       "  </clipPath>\n",
       "</defs>\n",
       "<path clip-path=\"url(#clip250)\" d=\"M0 1600 L2400 1600 L2400 0 L0 0  Z\" fill=\"#ffffff\" fill-rule=\"evenodd\" fill-opacity=\"1\"/>\n",
       "<defs>\n",
       "  <clipPath id=\"clip251\">\n",
       "    <rect x=\"480\" y=\"0\" width=\"1681\" height=\"1600\"/>\n",
       "  </clipPath>\n",
       "</defs>\n",
       "<path clip-path=\"url(#clip250)\" d=\"M254.26 1486.45 L2352.76 1486.45 L2352.76 123.472 L254.26 123.472  Z\" fill=\"#ffffff\" fill-rule=\"evenodd\" fill-opacity=\"1\"/>\n",
       "<defs>\n",
       "  <clipPath id=\"clip252\">\n",
       "    <rect x=\"254\" y=\"123\" width=\"2099\" height=\"1364\"/>\n",
       "  </clipPath>\n",
       "</defs>\n",
       "<polyline clip-path=\"url(#clip252)\" style=\"stroke:#000000; stroke-linecap:round; stroke-linejoin:round; stroke-width:2; stroke-opacity:0.1; fill:none\" points=\"313.651,1486.45 313.651,123.472 \"/>\n",
       "<polyline clip-path=\"url(#clip252)\" style=\"stroke:#000000; stroke-linecap:round; stroke-linejoin:round; stroke-width:2; stroke-opacity:0.1; fill:none\" points=\"973.556,1486.45 973.556,123.472 \"/>\n",
       "<polyline clip-path=\"url(#clip252)\" style=\"stroke:#000000; stroke-linecap:round; stroke-linejoin:round; stroke-width:2; stroke-opacity:0.1; fill:none\" points=\"1633.46,1486.45 1633.46,123.472 \"/>\n",
       "<polyline clip-path=\"url(#clip252)\" style=\"stroke:#000000; stroke-linecap:round; stroke-linejoin:round; stroke-width:2; stroke-opacity:0.1; fill:none\" points=\"2293.36,1486.45 2293.36,123.472 \"/>\n",
       "<polyline clip-path=\"url(#clip250)\" style=\"stroke:#000000; stroke-linecap:round; stroke-linejoin:round; stroke-width:4; stroke-opacity:1; fill:none\" points=\"254.26,1486.45 2352.76,1486.45 \"/>\n",
       "<polyline clip-path=\"url(#clip250)\" style=\"stroke:#000000; stroke-linecap:round; stroke-linejoin:round; stroke-width:4; stroke-opacity:1; fill:none\" points=\"313.651,1486.45 313.651,1467.55 \"/>\n",
       "<polyline clip-path=\"url(#clip250)\" style=\"stroke:#000000; stroke-linecap:round; stroke-linejoin:round; stroke-width:4; stroke-opacity:1; fill:none\" points=\"973.556,1486.45 973.556,1467.55 \"/>\n",
       "<polyline clip-path=\"url(#clip250)\" style=\"stroke:#000000; stroke-linecap:round; stroke-linejoin:round; stroke-width:4; stroke-opacity:1; fill:none\" points=\"1633.46,1486.45 1633.46,1467.55 \"/>\n",
       "<polyline clip-path=\"url(#clip250)\" style=\"stroke:#000000; stroke-linecap:round; stroke-linejoin:round; stroke-width:4; stroke-opacity:1; fill:none\" points=\"2293.36,1486.45 2293.36,1467.55 \"/>\n",
       "<path clip-path=\"url(#clip250)\" d=\"M291.036 1517.37 Q287.424 1517.37 285.596 1520.93 Q283.79 1524.47 283.79 1531.6 Q283.79 1538.71 285.596 1542.27 Q287.424 1545.82 291.036 1545.82 Q294.67 1545.82 296.475 1542.27 Q298.304 1538.71 298.304 1531.6 Q298.304 1524.47 296.475 1520.93 Q294.67 1517.37 291.036 1517.37 M291.036 1513.66 Q296.846 1513.66 299.901 1518.27 Q302.98 1522.85 302.98 1531.6 Q302.98 1540.33 299.901 1544.94 Q296.846 1549.52 291.036 1549.52 Q285.225 1549.52 282.147 1544.94 Q279.091 1540.33 279.091 1531.6 Q279.091 1522.85 282.147 1518.27 Q285.225 1513.66 291.036 1513.66 Z\" fill=\"#000000\" fill-rule=\"nonzero\" fill-opacity=\"1\" /><path clip-path=\"url(#clip250)\" d=\"M311.197 1542.97 L316.082 1542.97 L316.082 1548.85 L311.197 1548.85 L311.197 1542.97 Z\" fill=\"#000000\" fill-rule=\"nonzero\" fill-opacity=\"1\" /><path clip-path=\"url(#clip250)\" d=\"M336.267 1517.37 Q332.656 1517.37 330.827 1520.93 Q329.021 1524.47 329.021 1531.6 Q329.021 1538.71 330.827 1542.27 Q332.656 1545.82 336.267 1545.82 Q339.901 1545.82 341.707 1542.27 Q343.535 1538.71 343.535 1531.6 Q343.535 1524.47 341.707 1520.93 Q339.901 1517.37 336.267 1517.37 M336.267 1513.66 Q342.077 1513.66 345.132 1518.27 Q348.211 1522.85 348.211 1531.6 Q348.211 1540.33 345.132 1544.94 Q342.077 1549.52 336.267 1549.52 Q330.457 1549.52 327.378 1544.94 Q324.322 1540.33 324.322 1531.6 Q324.322 1522.85 327.378 1518.27 Q330.457 1513.66 336.267 1513.66 Z\" fill=\"#000000\" fill-rule=\"nonzero\" fill-opacity=\"1\" /><path clip-path=\"url(#clip250)\" d=\"M951.553 1517.37 Q947.942 1517.37 946.114 1520.93 Q944.308 1524.47 944.308 1531.6 Q944.308 1538.71 946.114 1542.27 Q947.942 1545.82 951.553 1545.82 Q955.188 1545.82 956.993 1542.27 Q958.822 1538.71 958.822 1531.6 Q958.822 1524.47 956.993 1520.93 Q955.188 1517.37 951.553 1517.37 M951.553 1513.66 Q957.364 1513.66 960.419 1518.27 Q963.498 1522.85 963.498 1531.6 Q963.498 1540.33 960.419 1544.94 Q957.364 1549.52 951.553 1549.52 Q945.743 1549.52 942.665 1544.94 Q939.609 1540.33 939.609 1531.6 Q939.609 1522.85 942.665 1518.27 Q945.743 1513.66 951.553 1513.66 Z\" fill=\"#000000\" fill-rule=\"nonzero\" fill-opacity=\"1\" /><path clip-path=\"url(#clip250)\" d=\"M971.715 1542.97 L976.6 1542.97 L976.6 1548.85 L971.715 1548.85 L971.715 1542.97 Z\" fill=\"#000000\" fill-rule=\"nonzero\" fill-opacity=\"1\" /><path clip-path=\"url(#clip250)\" d=\"M987.595 1544.91 L995.234 1544.91 L995.234 1518.55 L986.924 1520.21 L986.924 1515.95 L995.187 1514.29 L999.863 1514.29 L999.863 1544.91 L1007.5 1544.91 L1007.5 1548.85 L987.595 1548.85 L987.595 1544.91 Z\" fill=\"#000000\" fill-rule=\"nonzero\" fill-opacity=\"1\" /><path clip-path=\"url(#clip250)\" d=\"M1611.64 1517.37 Q1608.03 1517.37 1606.2 1520.93 Q1604.4 1524.47 1604.4 1531.6 Q1604.4 1538.71 1606.2 1542.27 Q1608.03 1545.82 1611.64 1545.82 Q1615.28 1545.82 1617.08 1542.27 Q1618.91 1538.71 1618.91 1531.6 Q1618.91 1524.47 1617.08 1520.93 Q1615.28 1517.37 1611.64 1517.37 M1611.64 1513.66 Q1617.45 1513.66 1620.51 1518.27 Q1623.59 1522.85 1623.59 1531.6 Q1623.59 1540.33 1620.51 1544.94 Q1617.45 1549.52 1611.64 1549.52 Q1605.83 1549.52 1602.75 1544.94 Q1599.7 1540.33 1599.7 1531.6 Q1599.7 1522.85 1602.75 1518.27 Q1605.83 1513.66 1611.64 1513.66 Z\" fill=\"#000000\" fill-rule=\"nonzero\" fill-opacity=\"1\" /><path clip-path=\"url(#clip250)\" d=\"M1631.8 1542.97 L1636.69 1542.97 L1636.69 1548.85 L1631.8 1548.85 L1631.8 1542.97 Z\" fill=\"#000000\" fill-rule=\"nonzero\" fill-opacity=\"1\" /><path clip-path=\"url(#clip250)\" d=\"M1650.9 1544.91 L1667.22 1544.91 L1667.22 1548.85 L1645.28 1548.85 L1645.28 1544.91 Q1647.94 1542.16 1652.52 1537.53 Q1657.13 1532.88 1658.31 1531.53 Q1660.55 1529.01 1661.43 1527.27 Q1662.34 1525.51 1662.34 1523.82 Q1662.34 1521.07 1660.39 1519.33 Q1658.47 1517.6 1655.37 1517.6 Q1653.17 1517.6 1650.72 1518.36 Q1648.29 1519.13 1645.51 1520.68 L1645.51 1515.95 Q1648.33 1514.82 1650.79 1514.24 Q1653.24 1513.66 1655.28 1513.66 Q1660.65 1513.66 1663.84 1516.35 Q1667.04 1519.03 1667.04 1523.52 Q1667.04 1525.65 1666.23 1527.57 Q1665.44 1529.47 1663.33 1532.07 Q1662.75 1532.74 1659.65 1535.95 Q1656.55 1539.15 1650.9 1544.91 Z\" fill=\"#000000\" fill-rule=\"nonzero\" fill-opacity=\"1\" /><path clip-path=\"url(#clip250)\" d=\"M2271.07 1517.37 Q2267.46 1517.37 2265.63 1520.93 Q2263.83 1524.47 2263.83 1531.6 Q2263.83 1538.71 2265.63 1542.27 Q2267.46 1545.82 2271.07 1545.82 Q2274.71 1545.82 2276.51 1542.27 Q2278.34 1538.71 2278.34 1531.6 Q2278.34 1524.47 2276.51 1520.93 Q2274.71 1517.37 2271.07 1517.37 M2271.07 1513.66 Q2276.88 1513.66 2279.94 1518.27 Q2283.02 1522.85 2283.02 1531.6 Q2283.02 1540.33 2279.94 1544.94 Q2276.88 1549.52 2271.07 1549.52 Q2265.26 1549.52 2262.18 1544.94 Q2259.13 1540.33 2259.13 1531.6 Q2259.13 1522.85 2262.18 1518.27 Q2265.26 1513.66 2271.07 1513.66 Z\" fill=\"#000000\" fill-rule=\"nonzero\" fill-opacity=\"1\" /><path clip-path=\"url(#clip250)\" d=\"M2291.23 1542.97 L2296.12 1542.97 L2296.12 1548.85 L2291.23 1548.85 L2291.23 1542.97 Z\" fill=\"#000000\" fill-rule=\"nonzero\" fill-opacity=\"1\" /><path clip-path=\"url(#clip250)\" d=\"M2320.47 1530.21 Q2323.83 1530.93 2325.7 1533.2 Q2327.6 1535.47 2327.6 1538.8 Q2327.6 1543.92 2324.08 1546.72 Q2320.56 1549.52 2314.08 1549.52 Q2311.91 1549.52 2309.59 1549.08 Q2307.3 1548.66 2304.85 1547.81 L2304.85 1543.29 Q2306.79 1544.43 2309.11 1545.01 Q2311.42 1545.58 2313.94 1545.58 Q2318.34 1545.58 2320.63 1543.85 Q2322.95 1542.11 2322.95 1538.8 Q2322.95 1535.75 2320.79 1534.03 Q2318.67 1532.3 2314.85 1532.3 L2310.82 1532.3 L2310.82 1528.45 L2315.03 1528.45 Q2318.48 1528.45 2320.31 1527.09 Q2322.14 1525.7 2322.14 1523.11 Q2322.14 1520.45 2320.24 1519.03 Q2318.36 1517.6 2314.85 1517.6 Q2312.92 1517.6 2310.73 1518.01 Q2308.53 1518.43 2305.89 1519.31 L2305.89 1515.14 Q2308.55 1514.4 2310.86 1514.03 Q2313.2 1513.66 2315.26 1513.66 Q2320.59 1513.66 2323.69 1516.09 Q2326.79 1518.5 2326.79 1522.62 Q2326.79 1525.49 2325.15 1527.48 Q2323.5 1529.45 2320.47 1530.21 Z\" fill=\"#000000\" fill-rule=\"nonzero\" fill-opacity=\"1\" /><polyline clip-path=\"url(#clip252)\" style=\"stroke:#000000; stroke-linecap:round; stroke-linejoin:round; stroke-width:2; stroke-opacity:0.1; fill:none\" points=\"254.26,1464.02 2352.76,1464.02 \"/>\n",
       "<polyline clip-path=\"url(#clip252)\" style=\"stroke:#000000; stroke-linecap:round; stroke-linejoin:round; stroke-width:2; stroke-opacity:0.1; fill:none\" points=\"254.26,1138.52 2352.76,1138.52 \"/>\n",
       "<polyline clip-path=\"url(#clip252)\" style=\"stroke:#000000; stroke-linecap:round; stroke-linejoin:round; stroke-width:2; stroke-opacity:0.1; fill:none\" points=\"254.26,813.031 2352.76,813.031 \"/>\n",
       "<polyline clip-path=\"url(#clip252)\" style=\"stroke:#000000; stroke-linecap:round; stroke-linejoin:round; stroke-width:2; stroke-opacity:0.1; fill:none\" points=\"254.26,487.539 2352.76,487.539 \"/>\n",
       "<polyline clip-path=\"url(#clip252)\" style=\"stroke:#000000; stroke-linecap:round; stroke-linejoin:round; stroke-width:2; stroke-opacity:0.1; fill:none\" points=\"254.26,162.047 2352.76,162.047 \"/>\n",
       "<polyline clip-path=\"url(#clip250)\" style=\"stroke:#000000; stroke-linecap:round; stroke-linejoin:round; stroke-width:4; stroke-opacity:1; fill:none\" points=\"254.26,1486.45 254.26,123.472 \"/>\n",
       "<polyline clip-path=\"url(#clip250)\" style=\"stroke:#000000; stroke-linecap:round; stroke-linejoin:round; stroke-width:4; stroke-opacity:1; fill:none\" points=\"254.26,1464.02 273.157,1464.02 \"/>\n",
       "<polyline clip-path=\"url(#clip250)\" style=\"stroke:#000000; stroke-linecap:round; stroke-linejoin:round; stroke-width:4; stroke-opacity:1; fill:none\" points=\"254.26,1138.52 273.157,1138.52 \"/>\n",
       "<polyline clip-path=\"url(#clip250)\" style=\"stroke:#000000; stroke-linecap:round; stroke-linejoin:round; stroke-width:4; stroke-opacity:1; fill:none\" points=\"254.26,813.031 273.157,813.031 \"/>\n",
       "<polyline clip-path=\"url(#clip250)\" style=\"stroke:#000000; stroke-linecap:round; stroke-linejoin:round; stroke-width:4; stroke-opacity:1; fill:none\" points=\"254.26,487.539 273.157,487.539 \"/>\n",
       "<polyline clip-path=\"url(#clip250)\" style=\"stroke:#000000; stroke-linecap:round; stroke-linejoin:round; stroke-width:4; stroke-opacity:1; fill:none\" points=\"254.26,162.047 273.157,162.047 \"/>\n",
       "<path clip-path=\"url(#clip250)\" d=\"M50.9921 1464.47 L80.6679 1464.47 L80.6679 1468.4 L50.9921 1468.4 L50.9921 1464.47 Z\" fill=\"#000000\" fill-rule=\"nonzero\" fill-opacity=\"1\" /><path clip-path=\"url(#clip250)\" d=\"M100.76 1449.81 Q97.1493 1449.81 95.3206 1453.38 Q93.515 1456.92 93.515 1464.05 Q93.515 1471.16 95.3206 1474.72 Q97.1493 1478.26 100.76 1478.26 Q104.395 1478.26 106.2 1474.72 Q108.029 1471.16 108.029 1464.05 Q108.029 1456.92 106.2 1453.38 Q104.395 1449.81 100.76 1449.81 M100.76 1446.11 Q106.571 1446.11 109.626 1450.72 Q112.705 1455.3 112.705 1464.05 Q112.705 1472.78 109.626 1477.38 Q106.571 1481.97 100.76 1481.97 Q94.9502 1481.97 91.8715 1477.38 Q88.816 1472.78 88.816 1464.05 Q88.816 1455.3 91.8715 1450.72 Q94.9502 1446.11 100.76 1446.11 Z\" fill=\"#000000\" fill-rule=\"nonzero\" fill-opacity=\"1\" /><path clip-path=\"url(#clip250)\" d=\"M120.922 1475.42 L125.807 1475.42 L125.807 1481.3 L120.922 1481.3 L120.922 1475.42 Z\" fill=\"#000000\" fill-rule=\"nonzero\" fill-opacity=\"1\" /><path clip-path=\"url(#clip250)\" d=\"M136.802 1477.36 L144.441 1477.36 L144.441 1451 L136.131 1452.66 L136.131 1448.4 L144.394 1446.74 L149.07 1446.74 L149.07 1477.36 L156.709 1477.36 L156.709 1481.3 L136.802 1481.3 L136.802 1477.36 Z\" fill=\"#000000\" fill-rule=\"nonzero\" fill-opacity=\"1\" /><path clip-path=\"url(#clip250)\" d=\"M176.153 1449.81 Q172.542 1449.81 170.714 1453.38 Q168.908 1456.92 168.908 1464.05 Q168.908 1471.16 170.714 1474.72 Q172.542 1478.26 176.153 1478.26 Q179.788 1478.26 181.593 1474.72 Q183.422 1471.16 183.422 1464.05 Q183.422 1456.92 181.593 1453.38 Q179.788 1449.81 176.153 1449.81 M176.153 1446.11 Q181.964 1446.11 185.019 1450.72 Q188.098 1455.3 188.098 1464.05 Q188.098 1472.78 185.019 1477.38 Q181.964 1481.97 176.153 1481.97 Q170.343 1481.97 167.265 1477.38 Q164.209 1472.78 164.209 1464.05 Q164.209 1455.3 167.265 1450.72 Q170.343 1446.11 176.153 1446.11 Z\" fill=\"#000000\" fill-rule=\"nonzero\" fill-opacity=\"1\" /><path clip-path=\"url(#clip250)\" d=\"M206.315 1449.81 Q202.704 1449.81 200.876 1453.38 Q199.07 1456.92 199.07 1464.05 Q199.07 1471.16 200.876 1474.72 Q202.704 1478.26 206.315 1478.26 Q209.95 1478.26 211.755 1474.72 Q213.584 1471.16 213.584 1464.05 Q213.584 1456.92 211.755 1453.38 Q209.95 1449.81 206.315 1449.81 M206.315 1446.11 Q212.126 1446.11 215.181 1450.72 Q218.26 1455.3 218.26 1464.05 Q218.26 1472.78 215.181 1477.38 Q212.126 1481.97 206.315 1481.97 Q200.505 1481.97 197.427 1477.38 Q194.371 1472.78 194.371 1464.05 Q194.371 1455.3 197.427 1450.72 Q200.505 1446.11 206.315 1446.11 Z\" fill=\"#000000\" fill-rule=\"nonzero\" fill-opacity=\"1\" /><path clip-path=\"url(#clip250)\" d=\"M51.9875 1138.97 L81.6633 1138.97 L81.6633 1142.91 L51.9875 1142.91 L51.9875 1138.97 Z\" fill=\"#000000\" fill-rule=\"nonzero\" fill-opacity=\"1\" /><path clip-path=\"url(#clip250)\" d=\"M101.756 1124.32 Q98.1447 1124.32 96.316 1127.89 Q94.5104 1131.43 94.5104 1138.56 Q94.5104 1145.66 96.316 1149.23 Q98.1447 1152.77 101.756 1152.77 Q105.39 1152.77 107.196 1149.23 Q109.024 1145.66 109.024 1138.56 Q109.024 1131.43 107.196 1127.89 Q105.39 1124.32 101.756 1124.32 M101.756 1120.62 Q107.566 1120.62 110.621 1125.23 Q113.7 1129.81 113.7 1138.56 Q113.7 1147.29 110.621 1151.89 Q107.566 1156.47 101.756 1156.47 Q95.9456 1156.47 92.8669 1151.89 Q89.8114 1147.29 89.8114 1138.56 Q89.8114 1129.81 92.8669 1125.23 Q95.9456 1120.62 101.756 1120.62 Z\" fill=\"#000000\" fill-rule=\"nonzero\" fill-opacity=\"1\" /><path clip-path=\"url(#clip250)\" d=\"M121.918 1149.92 L126.802 1149.92 L126.802 1155.8 L121.918 1155.8 L121.918 1149.92 Z\" fill=\"#000000\" fill-rule=\"nonzero\" fill-opacity=\"1\" /><path clip-path=\"url(#clip250)\" d=\"M146.987 1124.32 Q143.376 1124.32 141.547 1127.89 Q139.742 1131.43 139.742 1138.56 Q139.742 1145.66 141.547 1149.23 Q143.376 1152.77 146.987 1152.77 Q150.621 1152.77 152.427 1149.23 Q154.255 1145.66 154.255 1138.56 Q154.255 1131.43 152.427 1127.89 Q150.621 1124.32 146.987 1124.32 M146.987 1120.62 Q152.797 1120.62 155.853 1125.23 Q158.931 1129.81 158.931 1138.56 Q158.931 1147.29 155.853 1151.89 Q152.797 1156.47 146.987 1156.47 Q141.177 1156.47 138.098 1151.89 Q135.043 1147.29 135.043 1138.56 Q135.043 1129.81 138.098 1125.23 Q141.177 1120.62 146.987 1120.62 Z\" fill=\"#000000\" fill-rule=\"nonzero\" fill-opacity=\"1\" /><path clip-path=\"url(#clip250)\" d=\"M165.968 1121.24 L188.19 1121.24 L188.19 1123.23 L175.644 1155.8 L170.76 1155.8 L182.565 1125.18 L165.968 1125.18 L165.968 1121.24 Z\" fill=\"#000000\" fill-rule=\"nonzero\" fill-opacity=\"1\" /><path clip-path=\"url(#clip250)\" d=\"M197.357 1121.24 L215.713 1121.24 L215.713 1125.18 L201.639 1125.18 L201.639 1133.65 Q202.658 1133.3 203.676 1133.14 Q204.695 1132.96 205.714 1132.96 Q211.501 1132.96 214.88 1136.13 Q218.26 1139.3 218.26 1144.72 Q218.26 1150.29 214.788 1153.4 Q211.315 1156.47 204.996 1156.47 Q202.82 1156.47 200.552 1156.1 Q198.306 1155.73 195.899 1154.99 L195.899 1150.29 Q197.982 1151.43 200.204 1151.98 Q202.426 1152.54 204.903 1152.54 Q208.908 1152.54 211.246 1150.43 Q213.584 1148.33 213.584 1144.72 Q213.584 1141.1 211.246 1139 Q208.908 1136.89 204.903 1136.89 Q203.028 1136.89 201.153 1137.31 Q199.302 1137.72 197.357 1138.6 L197.357 1121.24 Z\" fill=\"#000000\" fill-rule=\"nonzero\" fill-opacity=\"1\" /><path clip-path=\"url(#clip250)\" d=\"M50.9921 813.483 L80.6679 813.483 L80.6679 817.418 L50.9921 817.418 L50.9921 813.483 Z\" fill=\"#000000\" fill-rule=\"nonzero\" fill-opacity=\"1\" /><path clip-path=\"url(#clip250)\" d=\"M100.76 798.83 Q97.1493 798.83 95.3206 802.395 Q93.515 805.936 93.515 813.066 Q93.515 820.173 95.3206 823.737 Q97.1493 827.279 100.76 827.279 Q104.395 827.279 106.2 823.737 Q108.029 820.173 108.029 813.066 Q108.029 805.936 106.2 802.395 Q104.395 798.83 100.76 798.83 M100.76 795.126 Q106.571 795.126 109.626 799.733 Q112.705 804.316 112.705 813.066 Q112.705 821.793 109.626 826.399 Q106.571 830.983 100.76 830.983 Q94.9502 830.983 91.8715 826.399 Q88.816 821.793 88.816 813.066 Q88.816 804.316 91.8715 799.733 Q94.9502 795.126 100.76 795.126 Z\" fill=\"#000000\" fill-rule=\"nonzero\" fill-opacity=\"1\" /><path clip-path=\"url(#clip250)\" d=\"M120.922 824.432 L125.807 824.432 L125.807 830.311 L120.922 830.311 L120.922 824.432 Z\" fill=\"#000000\" fill-rule=\"nonzero\" fill-opacity=\"1\" /><path clip-path=\"url(#clip250)\" d=\"M145.992 798.83 Q142.381 798.83 140.552 802.395 Q138.746 805.936 138.746 813.066 Q138.746 820.173 140.552 823.737 Q142.381 827.279 145.992 827.279 Q149.626 827.279 151.431 823.737 Q153.26 820.173 153.26 813.066 Q153.26 805.936 151.431 802.395 Q149.626 798.83 145.992 798.83 M145.992 795.126 Q151.802 795.126 154.857 799.733 Q157.936 804.316 157.936 813.066 Q157.936 821.793 154.857 826.399 Q151.802 830.983 145.992 830.983 Q140.181 830.983 137.103 826.399 Q134.047 821.793 134.047 813.066 Q134.047 804.316 137.103 799.733 Q140.181 795.126 145.992 795.126 Z\" fill=\"#000000\" fill-rule=\"nonzero\" fill-opacity=\"1\" /><path clip-path=\"url(#clip250)\" d=\"M166.2 795.751 L184.556 795.751 L184.556 799.687 L170.482 799.687 L170.482 808.159 Q171.501 807.811 172.519 807.649 Q173.538 807.464 174.556 807.464 Q180.343 807.464 183.723 810.636 Q187.103 813.807 187.103 819.223 Q187.103 824.802 183.63 827.904 Q180.158 830.983 173.839 830.983 Q171.663 830.983 169.394 830.612 Q167.149 830.242 164.742 829.501 L164.742 824.802 Q166.825 825.936 169.047 826.492 Q171.269 827.047 173.746 827.047 Q177.751 827.047 180.089 824.941 Q182.427 822.835 182.427 819.223 Q182.427 815.612 180.089 813.506 Q177.751 811.399 173.746 811.399 Q171.871 811.399 169.996 811.816 Q168.144 812.233 166.2 813.112 L166.2 795.751 Z\" fill=\"#000000\" fill-rule=\"nonzero\" fill-opacity=\"1\" /><path clip-path=\"url(#clip250)\" d=\"M206.315 798.83 Q202.704 798.83 200.876 802.395 Q199.07 805.936 199.07 813.066 Q199.07 820.173 200.876 823.737 Q202.704 827.279 206.315 827.279 Q209.95 827.279 211.755 823.737 Q213.584 820.173 213.584 813.066 Q213.584 805.936 211.755 802.395 Q209.95 798.83 206.315 798.83 M206.315 795.126 Q212.126 795.126 215.181 799.733 Q218.26 804.316 218.26 813.066 Q218.26 821.793 215.181 826.399 Q212.126 830.983 206.315 830.983 Q200.505 830.983 197.427 826.399 Q194.371 821.793 194.371 813.066 Q194.371 804.316 197.427 799.733 Q200.505 795.126 206.315 795.126 Z\" fill=\"#000000\" fill-rule=\"nonzero\" fill-opacity=\"1\" /><path clip-path=\"url(#clip250)\" d=\"M51.9875 487.991 L81.6633 487.991 L81.6633 491.926 L51.9875 491.926 L51.9875 487.991 Z\" fill=\"#000000\" fill-rule=\"nonzero\" fill-opacity=\"1\" /><path clip-path=\"url(#clip250)\" d=\"M101.756 473.338 Q98.1447 473.338 96.316 476.903 Q94.5104 480.444 94.5104 487.574 Q94.5104 494.68 96.316 498.245 Q98.1447 501.787 101.756 501.787 Q105.39 501.787 107.196 498.245 Q109.024 494.68 109.024 487.574 Q109.024 480.444 107.196 476.903 Q105.39 473.338 101.756 473.338 M101.756 469.634 Q107.566 469.634 110.621 474.241 Q113.7 478.824 113.7 487.574 Q113.7 496.301 110.621 500.907 Q107.566 505.49 101.756 505.49 Q95.9456 505.49 92.8669 500.907 Q89.8114 496.301 89.8114 487.574 Q89.8114 478.824 92.8669 474.241 Q95.9456 469.634 101.756 469.634 Z\" fill=\"#000000\" fill-rule=\"nonzero\" fill-opacity=\"1\" /><path clip-path=\"url(#clip250)\" d=\"M121.918 498.94 L126.802 498.94 L126.802 504.819 L121.918 504.819 L121.918 498.94 Z\" fill=\"#000000\" fill-rule=\"nonzero\" fill-opacity=\"1\" /><path clip-path=\"url(#clip250)\" d=\"M146.987 473.338 Q143.376 473.338 141.547 476.903 Q139.742 480.444 139.742 487.574 Q139.742 494.68 141.547 498.245 Q143.376 501.787 146.987 501.787 Q150.621 501.787 152.427 498.245 Q154.255 494.68 154.255 487.574 Q154.255 480.444 152.427 476.903 Q150.621 473.338 146.987 473.338 M146.987 469.634 Q152.797 469.634 155.853 474.241 Q158.931 478.824 158.931 487.574 Q158.931 496.301 155.853 500.907 Q152.797 505.49 146.987 505.49 Q141.177 505.49 138.098 500.907 Q135.043 496.301 135.043 487.574 Q135.043 478.824 138.098 474.241 Q141.177 469.634 146.987 469.634 Z\" fill=\"#000000\" fill-rule=\"nonzero\" fill-opacity=\"1\" /><path clip-path=\"url(#clip250)\" d=\"M171.177 500.884 L187.496 500.884 L187.496 504.819 L165.552 504.819 L165.552 500.884 Q168.214 498.129 172.797 493.5 Q177.403 488.847 178.584 487.504 Q180.829 484.981 181.709 483.245 Q182.612 481.486 182.612 479.796 Q182.612 477.042 180.667 475.305 Q178.746 473.569 175.644 473.569 Q173.445 473.569 170.991 474.333 Q168.561 475.097 165.783 476.648 L165.783 471.926 Q168.607 470.792 171.061 470.213 Q173.515 469.634 175.552 469.634 Q180.922 469.634 184.116 472.319 Q187.311 475.004 187.311 479.495 Q187.311 481.625 186.501 483.546 Q185.714 485.444 183.607 488.037 Q183.028 488.708 179.927 491.926 Q176.825 495.12 171.177 500.884 Z\" fill=\"#000000\" fill-rule=\"nonzero\" fill-opacity=\"1\" /><path clip-path=\"url(#clip250)\" d=\"M197.357 470.259 L215.713 470.259 L215.713 474.194 L201.639 474.194 L201.639 482.666 Q202.658 482.319 203.676 482.157 Q204.695 481.972 205.714 481.972 Q211.501 481.972 214.88 485.143 Q218.26 488.315 218.26 493.731 Q218.26 499.31 214.788 502.412 Q211.315 505.49 204.996 505.49 Q202.82 505.49 200.552 505.12 Q198.306 504.75 195.899 504.009 L195.899 499.31 Q197.982 500.444 200.204 501 Q202.426 501.555 204.903 501.555 Q208.908 501.555 211.246 499.449 Q213.584 497.342 213.584 493.731 Q213.584 490.12 211.246 488.014 Q208.908 485.907 204.903 485.907 Q203.028 485.907 201.153 486.324 Q199.302 486.741 197.357 487.62 L197.357 470.259 Z\" fill=\"#000000\" fill-rule=\"nonzero\" fill-opacity=\"1\" /><path clip-path=\"url(#clip250)\" d=\"M100.76 147.846 Q97.1493 147.846 95.3206 151.41 Q93.515 154.952 93.515 162.082 Q93.515 169.188 95.3206 172.753 Q97.1493 176.295 100.76 176.295 Q104.395 176.295 106.2 172.753 Q108.029 169.188 108.029 162.082 Q108.029 154.952 106.2 151.41 Q104.395 147.846 100.76 147.846 M100.76 144.142 Q106.571 144.142 109.626 148.748 Q112.705 153.332 112.705 162.082 Q112.705 170.808 109.626 175.415 Q106.571 179.998 100.76 179.998 Q94.9502 179.998 91.8715 175.415 Q88.816 170.808 88.816 162.082 Q88.816 153.332 91.8715 148.748 Q94.9502 144.142 100.76 144.142 Z\" fill=\"#000000\" fill-rule=\"nonzero\" fill-opacity=\"1\" /><path clip-path=\"url(#clip250)\" d=\"M120.922 173.447 L125.807 173.447 L125.807 179.327 L120.922 179.327 L120.922 173.447 Z\" fill=\"#000000\" fill-rule=\"nonzero\" fill-opacity=\"1\" /><path clip-path=\"url(#clip250)\" d=\"M145.992 147.846 Q142.381 147.846 140.552 151.41 Q138.746 154.952 138.746 162.082 Q138.746 169.188 140.552 172.753 Q142.381 176.295 145.992 176.295 Q149.626 176.295 151.431 172.753 Q153.26 169.188 153.26 162.082 Q153.26 154.952 151.431 151.41 Q149.626 147.846 145.992 147.846 M145.992 144.142 Q151.802 144.142 154.857 148.748 Q157.936 153.332 157.936 162.082 Q157.936 170.808 154.857 175.415 Q151.802 179.998 145.992 179.998 Q140.181 179.998 137.103 175.415 Q134.047 170.808 134.047 162.082 Q134.047 153.332 137.103 148.748 Q140.181 144.142 145.992 144.142 Z\" fill=\"#000000\" fill-rule=\"nonzero\" fill-opacity=\"1\" /><path clip-path=\"url(#clip250)\" d=\"M176.153 147.846 Q172.542 147.846 170.714 151.41 Q168.908 154.952 168.908 162.082 Q168.908 169.188 170.714 172.753 Q172.542 176.295 176.153 176.295 Q179.788 176.295 181.593 172.753 Q183.422 169.188 183.422 162.082 Q183.422 154.952 181.593 151.41 Q179.788 147.846 176.153 147.846 M176.153 144.142 Q181.964 144.142 185.019 148.748 Q188.098 153.332 188.098 162.082 Q188.098 170.808 185.019 175.415 Q181.964 179.998 176.153 179.998 Q170.343 179.998 167.265 175.415 Q164.209 170.808 164.209 162.082 Q164.209 153.332 167.265 148.748 Q170.343 144.142 176.153 144.142 Z\" fill=\"#000000\" fill-rule=\"nonzero\" fill-opacity=\"1\" /><path clip-path=\"url(#clip250)\" d=\"M206.315 147.846 Q202.704 147.846 200.876 151.41 Q199.07 154.952 199.07 162.082 Q199.07 169.188 200.876 172.753 Q202.704 176.295 206.315 176.295 Q209.95 176.295 211.755 172.753 Q213.584 169.188 213.584 162.082 Q213.584 154.952 211.755 151.41 Q209.95 147.846 206.315 147.846 M206.315 144.142 Q212.126 144.142 215.181 148.748 Q218.26 153.332 218.26 162.082 Q218.26 170.808 215.181 175.415 Q212.126 179.998 206.315 179.998 Q200.505 179.998 197.427 175.415 Q194.371 170.808 194.371 162.082 Q194.371 153.332 197.427 148.748 Q200.505 144.142 206.315 144.142 Z\" fill=\"#000000\" fill-rule=\"nonzero\" fill-opacity=\"1\" /><path clip-path=\"url(#clip250)\" d=\"M1162.9 65.3654 L1162.9 72.576 L1138.6 72.576 L1138.6 65.3654 Q1145.77 61.436 1149.78 54.7115 Q1153.79 47.987 1153.79 39.8042 Q1153.79 30.082 1148.44 24.2082 Q1143.09 18.3344 1134.34 18.3344 Q1125.59 18.3344 1120.2 24.2487 Q1114.86 30.1225 1114.86 39.8042 Q1114.86 47.987 1118.87 54.7115 Q1122.92 61.436 1130.13 65.3654 L1130.13 72.576 L1105.82 72.576 L1105.82 65.3654 L1118.75 65.3654 Q1112.35 59.7346 1109.39 53.6988 Q1106.47 47.6629 1106.47 40.2093 Q1106.47 27.3274 1114.25 19.3471 Q1121.99 11.3668 1134.34 11.3668 Q1146.62 11.3668 1154.43 19.3471 Q1162.21 27.2869 1162.21 39.8042 Q1162.21 47.6629 1159.34 53.6583 Q1156.46 59.6536 1149.94 65.3654 L1162.9 65.3654 Z\" fill=\"#000000\" fill-rule=\"nonzero\" fill-opacity=\"1\" /><path clip-path=\"url(#clip250)\" d=\"M1170.11 46.5287 L1191.95 46.5287 L1191.95 53.1722 L1170.11 53.1722 L1170.11 46.5287 Z\" fill=\"#000000\" fill-rule=\"nonzero\" fill-opacity=\"1\" /><path clip-path=\"url(#clip250)\" d=\"M1256.23 65.3654 L1256.23 72.576 L1231.93 72.576 L1231.93 65.3654 Q1239.1 61.436 1243.11 54.7115 Q1247.12 47.987 1247.12 39.8042 Q1247.12 30.082 1241.77 24.2082 Q1236.42 18.3344 1227.67 18.3344 Q1218.92 18.3344 1213.54 24.2487 Q1208.19 30.1225 1208.19 39.8042 Q1208.19 47.987 1212.2 54.7115 Q1216.25 61.436 1223.46 65.3654 L1223.46 72.576 L1199.16 72.576 L1199.16 65.3654 L1212.08 65.3654 Q1205.68 59.7346 1202.72 53.6988 Q1199.8 47.6629 1199.8 40.2093 Q1199.8 27.3274 1207.58 19.3471 Q1215.32 11.3668 1227.67 11.3668 Q1239.95 11.3668 1247.77 19.3471 Q1255.55 27.2869 1255.55 39.8042 Q1255.55 47.6629 1252.67 53.6583 Q1249.79 59.6536 1243.27 65.3654 L1256.23 65.3654 Z\" fill=\"#000000\" fill-rule=\"nonzero\" fill-opacity=\"1\" /><path clip-path=\"url(#clip250)\" d=\"M1282.48 45.1514 Q1280.46 41.6676 1276.37 41.6676 Q1272.28 41.6676 1270.25 45.1514 Q1268.18 48.6352 1268.18 55.6027 Q1268.18 62.6108 1270.25 66.0946 Q1272.28 69.5783 1276.37 69.5783 Q1280.46 69.5783 1282.48 66.0946 Q1284.55 62.6108 1284.55 55.6027 Q1284.55 48.6352 1282.48 45.1514 M1276.37 38.0623 Q1282.89 38.0623 1286.33 42.5588 Q1289.78 47.0553 1289.78 55.6027 Q1289.78 64.1906 1286.33 68.6871 Q1282.89 73.1836 1276.37 73.1836 Q1269.8 73.1836 1266.36 68.6871 Q1262.92 64.1906 1262.92 55.6027 Q1262.92 47.0553 1266.36 42.5588 Q1269.8 38.0623 1276.37 38.0623 Z\" fill=\"#000000\" fill-rule=\"nonzero\" fill-opacity=\"1\" /><path clip-path=\"url(#clip250)\" d=\"M1321.49 27.2059 L1329.39 27.2059 L1343.57 65.2844 L1357.75 27.2059 L1365.65 27.2059 L1348.63 72.576 L1338.51 72.576 L1321.49 27.2059 Z\" fill=\"#000000\" fill-rule=\"nonzero\" fill-opacity=\"1\" /><path clip-path=\"url(#clip250)\" d=\"M1404.86 28.5427 L1404.86 35.5912 Q1401.7 33.9709 1398.3 33.1607 Q1394.9 32.3505 1391.25 32.3505 Q1385.7 32.3505 1382.91 34.0519 Q1380.15 35.7533 1380.15 39.156 Q1380.15 41.7486 1382.14 43.2475 Q1384.12 44.7058 1390.12 46.0426 L1392.67 46.6097 Q1400.61 48.3111 1403.93 51.4303 Q1407.29 54.509 1407.29 60.0587 Q1407.29 66.3781 1402.27 70.0644 Q1397.29 73.7508 1388.54 73.7508 Q1384.89 73.7508 1380.92 73.0216 Q1376.99 72.3329 1372.62 70.9151 L1372.62 63.2184 Q1376.75 65.3654 1380.76 66.4591 Q1384.77 67.5124 1388.7 67.5124 Q1393.96 67.5124 1396.8 65.73 Q1399.64 63.9071 1399.64 60.6258 Q1399.64 57.5877 1397.57 55.9673 Q1395.54 54.3469 1388.62 52.8481 L1386.02 52.2405 Q1379.1 50.7821 1376.02 47.7845 Q1372.94 44.7463 1372.94 39.4801 Q1372.94 33.0797 1377.48 29.5959 Q1382.01 26.1121 1390.36 26.1121 Q1394.49 26.1121 1398.14 26.7198 Q1401.78 27.3274 1404.86 28.5427 Z\" fill=\"#000000\" fill-rule=\"nonzero\" fill-opacity=\"1\" /><path clip-path=\"url(#clip250)\" d=\"M1445.86 12.096 L1458.05 12.096 L1473.48 53.2532 L1489 12.096 L1501.19 12.096 L1501.19 72.576 L1493.21 72.576 L1493.21 19.4686 L1477.62 60.9499 L1469.39 60.9499 L1453.8 19.4686 L1453.8 72.576 L1445.86 72.576 L1445.86 12.096 Z\" fill=\"#000000\" fill-rule=\"nonzero\" fill-opacity=\"1\" /><polyline clip-path=\"url(#clip252)\" style=\"stroke:#009af9; stroke-linecap:round; stroke-linejoin:round; stroke-width:4; stroke-opacity:1; fill:none\" points=\"313.651,162.047 354.053,263.655 394.456,480.849 434.858,702.737 475.26,886.141 515.663,1026.14 556.065,1130.09 596.467,1206.96 636.87,1264.16 677.272,1307.17 717.674,1339.87 758.077,1365 798.479,1384.49 838.881,1399.7 879.284,1411.63 919.686,1421 960.088,1428.35 1000.49,1434.08 1040.89,1438.51 1081.3,1441.87 1121.7,1444.34 1162.1,1446.07 1202.5,1447.17 1242.9,1447.75 1283.31,1447.87 1323.71,1447.6 1364.11,1446.99 1404.51,1446.09 1444.92,1444.92 1485.32,1443.51 1525.72,1441.9 1566.12,1440.11 1606.53,1438.15 1646.93,1436.04 1687.33,1433.79 1727.73,1431.43 1768.13,1428.94 1808.54,1426.36 1848.94,1423.68 1889.34,1420.91 1929.74,1418.06 1970.15,1415.13 2010.55,1412.14 2050.95,1409.08 2091.35,1405.96 2131.76,1402.78 2172.16,1399.55 2212.56,1396.28 2252.96,1392.95 2293.36,1389.58 \"/>\n",
       "<circle clip-path=\"url(#clip252)\" cx=\"1283.31\" cy=\"1447.87\" r=\"14.4\" fill=\"#000000\" fill-rule=\"evenodd\" fill-opacity=\"1\" stroke=\"none\"/>\n",
       "<polyline clip-path=\"url(#clip252)\" style=\"stroke:#3da44d; stroke-linecap:round; stroke-linejoin:round; stroke-width:4; stroke-opacity:1; fill:none\" points=\"313.651,162.047 354.053,182.795 394.456,240.933 434.858,326.087 475.26,425.842 515.663,529.374 556.065,629.101 596.467,720.67 636.87,802.193 677.272,873.363 717.674,934.753 758.077,987.344 798.479,1032.24 838.881,1070.52 879.284,1103.17 919.686,1131.05 960.088,1154.89 1000.49,1175.3 1040.89,1192.81 1081.3,1207.85 1121.7,1220.77 1162.1,1231.88 1202.5,1241.43 1242.9,1249.63 1283.31,1256.66 1323.71,1262.66 1364.11,1267.75 1404.51,1272.06 1444.92,1275.66 1485.32,1278.63 1525.72,1281.05 1566.12,1282.98 1606.53,1284.45 1646.93,1285.52 1687.33,1286.23 1727.73,1286.61 1768.13,1286.68 1808.54,1286.48 1848.94,1286.03 1889.34,1285.35 1929.74,1284.46 1970.15,1283.37 2010.55,1282.1 2050.95,1280.67 2091.35,1279.09 2131.76,1277.36 2172.16,1275.5 2212.56,1273.52 2252.96,1271.43 2293.36,1269.23 \"/>\n",
       "<circle clip-path=\"url(#clip252)\" cx=\"1768.13\" cy=\"1286.68\" r=\"14.4\" fill=\"#000000\" fill-rule=\"evenodd\" fill-opacity=\"1\" stroke=\"none\"/>\n",
       "<polyline clip-path=\"url(#clip252)\" style=\"stroke:#ac8d18; stroke-linecap:round; stroke-linejoin:round; stroke-width:4; stroke-opacity:1; fill:none\" points=\"313.651,162.047 354.053,171.795 394.456,199.551 434.858,241.38 475.26,292.153 515.663,346.869 556.065,401.513 596.467,453.352 636.87,500.828 677.272,543.272 717.674,580.604 758.077,613.085 798.479,641.147 838.881,665.283 879.284,685.985 919.686,703.71 960.088,718.866 1000.49,731.813 1040.89,742.856 1081.3,752.261 1121.7,760.25 1162.1,767.014 1202.5,772.715 1242.9,777.488 1283.31,781.452 1323.71,784.706 1364.11,787.335 1404.51,789.413 1444.92,791.004 1485.32,792.162 1525.72,792.936 1566.12,793.366 1606.53,793.49 1646.93,793.34 1687.33,792.944 1727.73,792.328 1768.13,791.513 1808.54,790.519 1848.94,789.364 1889.34,788.065 1929.74,786.634 1970.15,785.086 2010.55,783.431 2050.95,781.68 2091.35,779.843 2131.76,777.928 2172.16,775.942 2212.56,773.894 2252.96,771.789 2293.36,769.633 \"/>\n",
       "<circle clip-path=\"url(#clip252)\" cx=\"1606.53\" cy=\"793.49\" r=\"14.4\" fill=\"#000000\" fill-rule=\"evenodd\" fill-opacity=\"1\" stroke=\"none\"/>\n",
       "<polyline clip-path=\"url(#clip252)\" style=\"stroke:#ed5d92; stroke-linecap:round; stroke-linejoin:round; stroke-width:4; stroke-opacity:1; fill:none\" points=\"313.651,162.047 354.053,171.605 394.456,198.165 434.858,236.432 475.26,280.211 515.663,324.337 556.065,365.462 596.467,401.919 636.87,433.217 677.272,459.543 717.674,481.399 758.077,499.39 798.479,514.107 838.881,526.085 879.284,535.782 919.686,543.582 960.088,549.802 1000.49,554.705 1040.89,558.504 1081.3,561.375 1121.7,563.464 1162.1,564.891 1202.5,565.754 1242.9,566.139 1283.31,566.114 1323.71,565.738 1364.11,565.062 1404.51,564.128 1444.92,562.971 1485.32,561.625 1525.72,560.114 1566.12,558.463 1606.53,556.692 1646.93,554.818 1687.33,552.857 1727.73,550.821 1768.13,548.723 1808.54,546.573 1848.94,544.379 1889.34,542.151 1929.74,539.894 1970.15,537.616 2010.55,535.321 2050.95,533.014 2091.35,530.7 2131.76,528.382 2172.16,526.064 2212.56,523.749 2252.96,521.439 2293.36,519.136 \"/>\n",
       "<circle clip-path=\"url(#clip252)\" cx=\"1242.9\" cy=\"566.139\" r=\"14.4\" fill=\"#000000\" fill-rule=\"evenodd\" fill-opacity=\"1\" stroke=\"none\"/>\n",
       "<polyline clip-path=\"url(#clip252)\" style=\"stroke:#00a98d; stroke-linecap:round; stroke-linejoin:round; stroke-width:4; stroke-opacity:1; fill:none\" points=\"313.651,162.047 354.053,172.715 394.456,201.256 434.858,239.704 475.26,280.143 515.663,317.409 556.065,349.219 596.467,375.174 636.87,395.791 677.272,411.893 717.674,424.314 758.077,433.787 798.479,440.912 838.881,446.171 879.284,449.94 919.686,452.518 960.088,454.136 1000.49,454.98 1040.89,455.195 1081.3,454.898 1121.7,454.184 1162.1,453.13 1202.5,451.796 1242.9,450.235 1283.31,448.489 1323.71,446.593 1364.11,444.576 1404.51,442.462 1444.92,440.272 1485.32,438.023 1525.72,435.73 1566.12,433.404 1606.53,431.058 1646.93,428.698 1687.33,426.333 1727.73,423.969 1768.13,421.611 1808.54,419.264 1848.94,416.931 1889.34,414.617 1929.74,412.322 1970.15,410.051 2010.55,407.803 2050.95,405.582 2091.35,403.388 2131.76,401.222 2172.16,399.085 2212.56,396.977 2252.96,394.899 2293.36,392.851 \"/>\n",
       "<circle clip-path=\"url(#clip252)\" cx=\"1040.89\" cy=\"455.195\" r=\"14.4\" fill=\"#000000\" fill-rule=\"evenodd\" fill-opacity=\"1\" stroke=\"none\"/>\n",
       "</svg>\n"
      ],
      "text/html": [
       "<?xml version=\"1.0\" encoding=\"utf-8\"?>\n",
       "<svg xmlns=\"http://www.w3.org/2000/svg\" xmlns:xlink=\"http://www.w3.org/1999/xlink\" width=\"600\" height=\"400\" viewBox=\"0 0 2400 1600\">\n",
       "<defs>\n",
       "  <clipPath id=\"clip300\">\n",
       "    <rect x=\"0\" y=\"0\" width=\"2400\" height=\"1600\"/>\n",
       "  </clipPath>\n",
       "</defs>\n",
       "<path clip-path=\"url(#clip300)\" d=\"M0 1600 L2400 1600 L2400 0 L0 0  Z\" fill=\"#ffffff\" fill-rule=\"evenodd\" fill-opacity=\"1\"/>\n",
       "<defs>\n",
       "  <clipPath id=\"clip301\">\n",
       "    <rect x=\"480\" y=\"0\" width=\"1681\" height=\"1600\"/>\n",
       "  </clipPath>\n",
       "</defs>\n",
       "<path clip-path=\"url(#clip300)\" d=\"M254.26 1486.45 L2352.76 1486.45 L2352.76 123.472 L254.26 123.472  Z\" fill=\"#ffffff\" fill-rule=\"evenodd\" fill-opacity=\"1\"/>\n",
       "<defs>\n",
       "  <clipPath id=\"clip302\">\n",
       "    <rect x=\"254\" y=\"123\" width=\"2099\" height=\"1364\"/>\n",
       "  </clipPath>\n",
       "</defs>\n",
       "<polyline clip-path=\"url(#clip302)\" style=\"stroke:#000000; stroke-linecap:round; stroke-linejoin:round; stroke-width:2; stroke-opacity:0.1; fill:none\" points=\"313.651,1486.45 313.651,123.472 \"/>\n",
       "<polyline clip-path=\"url(#clip302)\" style=\"stroke:#000000; stroke-linecap:round; stroke-linejoin:round; stroke-width:2; stroke-opacity:0.1; fill:none\" points=\"973.556,1486.45 973.556,123.472 \"/>\n",
       "<polyline clip-path=\"url(#clip302)\" style=\"stroke:#000000; stroke-linecap:round; stroke-linejoin:round; stroke-width:2; stroke-opacity:0.1; fill:none\" points=\"1633.46,1486.45 1633.46,123.472 \"/>\n",
       "<polyline clip-path=\"url(#clip302)\" style=\"stroke:#000000; stroke-linecap:round; stroke-linejoin:round; stroke-width:2; stroke-opacity:0.1; fill:none\" points=\"2293.36,1486.45 2293.36,123.472 \"/>\n",
       "<polyline clip-path=\"url(#clip300)\" style=\"stroke:#000000; stroke-linecap:round; stroke-linejoin:round; stroke-width:4; stroke-opacity:1; fill:none\" points=\"254.26,1486.45 2352.76,1486.45 \"/>\n",
       "<polyline clip-path=\"url(#clip300)\" style=\"stroke:#000000; stroke-linecap:round; stroke-linejoin:round; stroke-width:4; stroke-opacity:1; fill:none\" points=\"313.651,1486.45 313.651,1467.55 \"/>\n",
       "<polyline clip-path=\"url(#clip300)\" style=\"stroke:#000000; stroke-linecap:round; stroke-linejoin:round; stroke-width:4; stroke-opacity:1; fill:none\" points=\"973.556,1486.45 973.556,1467.55 \"/>\n",
       "<polyline clip-path=\"url(#clip300)\" style=\"stroke:#000000; stroke-linecap:round; stroke-linejoin:round; stroke-width:4; stroke-opacity:1; fill:none\" points=\"1633.46,1486.45 1633.46,1467.55 \"/>\n",
       "<polyline clip-path=\"url(#clip300)\" style=\"stroke:#000000; stroke-linecap:round; stroke-linejoin:round; stroke-width:4; stroke-opacity:1; fill:none\" points=\"2293.36,1486.45 2293.36,1467.55 \"/>\n",
       "<path clip-path=\"url(#clip300)\" d=\"M291.036 1517.37 Q287.424 1517.37 285.596 1520.93 Q283.79 1524.47 283.79 1531.6 Q283.79 1538.71 285.596 1542.27 Q287.424 1545.82 291.036 1545.82 Q294.67 1545.82 296.475 1542.27 Q298.304 1538.71 298.304 1531.6 Q298.304 1524.47 296.475 1520.93 Q294.67 1517.37 291.036 1517.37 M291.036 1513.66 Q296.846 1513.66 299.901 1518.27 Q302.98 1522.85 302.98 1531.6 Q302.98 1540.33 299.901 1544.94 Q296.846 1549.52 291.036 1549.52 Q285.225 1549.52 282.147 1544.94 Q279.091 1540.33 279.091 1531.6 Q279.091 1522.85 282.147 1518.27 Q285.225 1513.66 291.036 1513.66 Z\" fill=\"#000000\" fill-rule=\"nonzero\" fill-opacity=\"1\" /><path clip-path=\"url(#clip300)\" d=\"M311.197 1542.97 L316.082 1542.97 L316.082 1548.85 L311.197 1548.85 L311.197 1542.97 Z\" fill=\"#000000\" fill-rule=\"nonzero\" fill-opacity=\"1\" /><path clip-path=\"url(#clip300)\" d=\"M336.267 1517.37 Q332.656 1517.37 330.827 1520.93 Q329.021 1524.47 329.021 1531.6 Q329.021 1538.71 330.827 1542.27 Q332.656 1545.82 336.267 1545.82 Q339.901 1545.82 341.707 1542.27 Q343.535 1538.71 343.535 1531.6 Q343.535 1524.47 341.707 1520.93 Q339.901 1517.37 336.267 1517.37 M336.267 1513.66 Q342.077 1513.66 345.132 1518.27 Q348.211 1522.85 348.211 1531.6 Q348.211 1540.33 345.132 1544.94 Q342.077 1549.52 336.267 1549.52 Q330.457 1549.52 327.378 1544.94 Q324.322 1540.33 324.322 1531.6 Q324.322 1522.85 327.378 1518.27 Q330.457 1513.66 336.267 1513.66 Z\" fill=\"#000000\" fill-rule=\"nonzero\" fill-opacity=\"1\" /><path clip-path=\"url(#clip300)\" d=\"M951.553 1517.37 Q947.942 1517.37 946.114 1520.93 Q944.308 1524.47 944.308 1531.6 Q944.308 1538.71 946.114 1542.27 Q947.942 1545.82 951.553 1545.82 Q955.188 1545.82 956.993 1542.27 Q958.822 1538.71 958.822 1531.6 Q958.822 1524.47 956.993 1520.93 Q955.188 1517.37 951.553 1517.37 M951.553 1513.66 Q957.364 1513.66 960.419 1518.27 Q963.498 1522.85 963.498 1531.6 Q963.498 1540.33 960.419 1544.94 Q957.364 1549.52 951.553 1549.52 Q945.743 1549.52 942.665 1544.94 Q939.609 1540.33 939.609 1531.6 Q939.609 1522.85 942.665 1518.27 Q945.743 1513.66 951.553 1513.66 Z\" fill=\"#000000\" fill-rule=\"nonzero\" fill-opacity=\"1\" /><path clip-path=\"url(#clip300)\" d=\"M971.715 1542.97 L976.6 1542.97 L976.6 1548.85 L971.715 1548.85 L971.715 1542.97 Z\" fill=\"#000000\" fill-rule=\"nonzero\" fill-opacity=\"1\" /><path clip-path=\"url(#clip300)\" d=\"M987.595 1544.91 L995.234 1544.91 L995.234 1518.55 L986.924 1520.21 L986.924 1515.95 L995.187 1514.29 L999.863 1514.29 L999.863 1544.91 L1007.5 1544.91 L1007.5 1548.85 L987.595 1548.85 L987.595 1544.91 Z\" fill=\"#000000\" fill-rule=\"nonzero\" fill-opacity=\"1\" /><path clip-path=\"url(#clip300)\" d=\"M1611.64 1517.37 Q1608.03 1517.37 1606.2 1520.93 Q1604.4 1524.47 1604.4 1531.6 Q1604.4 1538.71 1606.2 1542.27 Q1608.03 1545.82 1611.64 1545.82 Q1615.28 1545.82 1617.08 1542.27 Q1618.91 1538.71 1618.91 1531.6 Q1618.91 1524.47 1617.08 1520.93 Q1615.28 1517.37 1611.64 1517.37 M1611.64 1513.66 Q1617.45 1513.66 1620.51 1518.27 Q1623.59 1522.85 1623.59 1531.6 Q1623.59 1540.33 1620.51 1544.94 Q1617.45 1549.52 1611.64 1549.52 Q1605.83 1549.52 1602.75 1544.94 Q1599.7 1540.33 1599.7 1531.6 Q1599.7 1522.85 1602.75 1518.27 Q1605.83 1513.66 1611.64 1513.66 Z\" fill=\"#000000\" fill-rule=\"nonzero\" fill-opacity=\"1\" /><path clip-path=\"url(#clip300)\" d=\"M1631.8 1542.97 L1636.69 1542.97 L1636.69 1548.85 L1631.8 1548.85 L1631.8 1542.97 Z\" fill=\"#000000\" fill-rule=\"nonzero\" fill-opacity=\"1\" /><path clip-path=\"url(#clip300)\" d=\"M1650.9 1544.91 L1667.22 1544.91 L1667.22 1548.85 L1645.28 1548.85 L1645.28 1544.91 Q1647.94 1542.16 1652.52 1537.53 Q1657.13 1532.88 1658.31 1531.53 Q1660.55 1529.01 1661.43 1527.27 Q1662.34 1525.51 1662.34 1523.82 Q1662.34 1521.07 1660.39 1519.33 Q1658.47 1517.6 1655.37 1517.6 Q1653.17 1517.6 1650.72 1518.36 Q1648.29 1519.13 1645.51 1520.68 L1645.51 1515.95 Q1648.33 1514.82 1650.79 1514.24 Q1653.24 1513.66 1655.28 1513.66 Q1660.65 1513.66 1663.84 1516.35 Q1667.04 1519.03 1667.04 1523.52 Q1667.04 1525.65 1666.23 1527.57 Q1665.44 1529.47 1663.33 1532.07 Q1662.75 1532.74 1659.65 1535.95 Q1656.55 1539.15 1650.9 1544.91 Z\" fill=\"#000000\" fill-rule=\"nonzero\" fill-opacity=\"1\" /><path clip-path=\"url(#clip300)\" d=\"M2271.07 1517.37 Q2267.46 1517.37 2265.63 1520.93 Q2263.83 1524.47 2263.83 1531.6 Q2263.83 1538.71 2265.63 1542.27 Q2267.46 1545.82 2271.07 1545.82 Q2274.71 1545.82 2276.51 1542.27 Q2278.34 1538.71 2278.34 1531.6 Q2278.34 1524.47 2276.51 1520.93 Q2274.71 1517.37 2271.07 1517.37 M2271.07 1513.66 Q2276.88 1513.66 2279.94 1518.27 Q2283.02 1522.85 2283.02 1531.6 Q2283.02 1540.33 2279.94 1544.94 Q2276.88 1549.52 2271.07 1549.52 Q2265.26 1549.52 2262.18 1544.94 Q2259.13 1540.33 2259.13 1531.6 Q2259.13 1522.85 2262.18 1518.27 Q2265.26 1513.66 2271.07 1513.66 Z\" fill=\"#000000\" fill-rule=\"nonzero\" fill-opacity=\"1\" /><path clip-path=\"url(#clip300)\" d=\"M2291.23 1542.97 L2296.12 1542.97 L2296.12 1548.85 L2291.23 1548.85 L2291.23 1542.97 Z\" fill=\"#000000\" fill-rule=\"nonzero\" fill-opacity=\"1\" /><path clip-path=\"url(#clip300)\" d=\"M2320.47 1530.21 Q2323.83 1530.93 2325.7 1533.2 Q2327.6 1535.47 2327.6 1538.8 Q2327.6 1543.92 2324.08 1546.72 Q2320.56 1549.52 2314.08 1549.52 Q2311.91 1549.52 2309.59 1549.08 Q2307.3 1548.66 2304.85 1547.81 L2304.85 1543.29 Q2306.79 1544.43 2309.11 1545.01 Q2311.42 1545.58 2313.94 1545.58 Q2318.34 1545.58 2320.63 1543.85 Q2322.95 1542.11 2322.95 1538.8 Q2322.95 1535.75 2320.79 1534.03 Q2318.67 1532.3 2314.85 1532.3 L2310.82 1532.3 L2310.82 1528.45 L2315.03 1528.45 Q2318.48 1528.45 2320.31 1527.09 Q2322.14 1525.7 2322.14 1523.11 Q2322.14 1520.45 2320.24 1519.03 Q2318.36 1517.6 2314.85 1517.6 Q2312.92 1517.6 2310.73 1518.01 Q2308.53 1518.43 2305.89 1519.31 L2305.89 1515.14 Q2308.55 1514.4 2310.86 1514.03 Q2313.2 1513.66 2315.26 1513.66 Q2320.59 1513.66 2323.69 1516.09 Q2326.79 1518.5 2326.79 1522.62 Q2326.79 1525.49 2325.15 1527.48 Q2323.5 1529.45 2320.47 1530.21 Z\" fill=\"#000000\" fill-rule=\"nonzero\" fill-opacity=\"1\" /><polyline clip-path=\"url(#clip302)\" style=\"stroke:#000000; stroke-linecap:round; stroke-linejoin:round; stroke-width:2; stroke-opacity:0.1; fill:none\" points=\"254.26,1464.02 2352.76,1464.02 \"/>\n",
       "<polyline clip-path=\"url(#clip302)\" style=\"stroke:#000000; stroke-linecap:round; stroke-linejoin:round; stroke-width:2; stroke-opacity:0.1; fill:none\" points=\"254.26,1138.52 2352.76,1138.52 \"/>\n",
       "<polyline clip-path=\"url(#clip302)\" style=\"stroke:#000000; stroke-linecap:round; stroke-linejoin:round; stroke-width:2; stroke-opacity:0.1; fill:none\" points=\"254.26,813.031 2352.76,813.031 \"/>\n",
       "<polyline clip-path=\"url(#clip302)\" style=\"stroke:#000000; stroke-linecap:round; stroke-linejoin:round; stroke-width:2; stroke-opacity:0.1; fill:none\" points=\"254.26,487.539 2352.76,487.539 \"/>\n",
       "<polyline clip-path=\"url(#clip302)\" style=\"stroke:#000000; stroke-linecap:round; stroke-linejoin:round; stroke-width:2; stroke-opacity:0.1; fill:none\" points=\"254.26,162.047 2352.76,162.047 \"/>\n",
       "<polyline clip-path=\"url(#clip300)\" style=\"stroke:#000000; stroke-linecap:round; stroke-linejoin:round; stroke-width:4; stroke-opacity:1; fill:none\" points=\"254.26,1486.45 254.26,123.472 \"/>\n",
       "<polyline clip-path=\"url(#clip300)\" style=\"stroke:#000000; stroke-linecap:round; stroke-linejoin:round; stroke-width:4; stroke-opacity:1; fill:none\" points=\"254.26,1464.02 273.157,1464.02 \"/>\n",
       "<polyline clip-path=\"url(#clip300)\" style=\"stroke:#000000; stroke-linecap:round; stroke-linejoin:round; stroke-width:4; stroke-opacity:1; fill:none\" points=\"254.26,1138.52 273.157,1138.52 \"/>\n",
       "<polyline clip-path=\"url(#clip300)\" style=\"stroke:#000000; stroke-linecap:round; stroke-linejoin:round; stroke-width:4; stroke-opacity:1; fill:none\" points=\"254.26,813.031 273.157,813.031 \"/>\n",
       "<polyline clip-path=\"url(#clip300)\" style=\"stroke:#000000; stroke-linecap:round; stroke-linejoin:round; stroke-width:4; stroke-opacity:1; fill:none\" points=\"254.26,487.539 273.157,487.539 \"/>\n",
       "<polyline clip-path=\"url(#clip300)\" style=\"stroke:#000000; stroke-linecap:round; stroke-linejoin:round; stroke-width:4; stroke-opacity:1; fill:none\" points=\"254.26,162.047 273.157,162.047 \"/>\n",
       "<path clip-path=\"url(#clip300)\" d=\"M50.9921 1464.47 L80.6679 1464.47 L80.6679 1468.4 L50.9921 1468.4 L50.9921 1464.47 Z\" fill=\"#000000\" fill-rule=\"nonzero\" fill-opacity=\"1\" /><path clip-path=\"url(#clip300)\" d=\"M100.76 1449.81 Q97.1493 1449.81 95.3206 1453.38 Q93.515 1456.92 93.515 1464.05 Q93.515 1471.16 95.3206 1474.72 Q97.1493 1478.26 100.76 1478.26 Q104.395 1478.26 106.2 1474.72 Q108.029 1471.16 108.029 1464.05 Q108.029 1456.92 106.2 1453.38 Q104.395 1449.81 100.76 1449.81 M100.76 1446.11 Q106.571 1446.11 109.626 1450.72 Q112.705 1455.3 112.705 1464.05 Q112.705 1472.78 109.626 1477.38 Q106.571 1481.97 100.76 1481.97 Q94.9502 1481.97 91.8715 1477.38 Q88.816 1472.78 88.816 1464.05 Q88.816 1455.3 91.8715 1450.72 Q94.9502 1446.11 100.76 1446.11 Z\" fill=\"#000000\" fill-rule=\"nonzero\" fill-opacity=\"1\" /><path clip-path=\"url(#clip300)\" d=\"M120.922 1475.42 L125.807 1475.42 L125.807 1481.3 L120.922 1481.3 L120.922 1475.42 Z\" fill=\"#000000\" fill-rule=\"nonzero\" fill-opacity=\"1\" /><path clip-path=\"url(#clip300)\" d=\"M136.802 1477.36 L144.441 1477.36 L144.441 1451 L136.131 1452.66 L136.131 1448.4 L144.394 1446.74 L149.07 1446.74 L149.07 1477.36 L156.709 1477.36 L156.709 1481.3 L136.802 1481.3 L136.802 1477.36 Z\" fill=\"#000000\" fill-rule=\"nonzero\" fill-opacity=\"1\" /><path clip-path=\"url(#clip300)\" d=\"M176.153 1449.81 Q172.542 1449.81 170.714 1453.38 Q168.908 1456.92 168.908 1464.05 Q168.908 1471.16 170.714 1474.72 Q172.542 1478.26 176.153 1478.26 Q179.788 1478.26 181.593 1474.72 Q183.422 1471.16 183.422 1464.05 Q183.422 1456.92 181.593 1453.38 Q179.788 1449.81 176.153 1449.81 M176.153 1446.11 Q181.964 1446.11 185.019 1450.72 Q188.098 1455.3 188.098 1464.05 Q188.098 1472.78 185.019 1477.38 Q181.964 1481.97 176.153 1481.97 Q170.343 1481.97 167.265 1477.38 Q164.209 1472.78 164.209 1464.05 Q164.209 1455.3 167.265 1450.72 Q170.343 1446.11 176.153 1446.11 Z\" fill=\"#000000\" fill-rule=\"nonzero\" fill-opacity=\"1\" /><path clip-path=\"url(#clip300)\" d=\"M206.315 1449.81 Q202.704 1449.81 200.876 1453.38 Q199.07 1456.92 199.07 1464.05 Q199.07 1471.16 200.876 1474.72 Q202.704 1478.26 206.315 1478.26 Q209.95 1478.26 211.755 1474.72 Q213.584 1471.16 213.584 1464.05 Q213.584 1456.92 211.755 1453.38 Q209.95 1449.81 206.315 1449.81 M206.315 1446.11 Q212.126 1446.11 215.181 1450.72 Q218.26 1455.3 218.26 1464.05 Q218.26 1472.78 215.181 1477.38 Q212.126 1481.97 206.315 1481.97 Q200.505 1481.97 197.427 1477.38 Q194.371 1472.78 194.371 1464.05 Q194.371 1455.3 197.427 1450.72 Q200.505 1446.11 206.315 1446.11 Z\" fill=\"#000000\" fill-rule=\"nonzero\" fill-opacity=\"1\" /><path clip-path=\"url(#clip300)\" d=\"M51.9875 1138.97 L81.6633 1138.97 L81.6633 1142.91 L51.9875 1142.91 L51.9875 1138.97 Z\" fill=\"#000000\" fill-rule=\"nonzero\" fill-opacity=\"1\" /><path clip-path=\"url(#clip300)\" d=\"M101.756 1124.32 Q98.1447 1124.32 96.316 1127.89 Q94.5104 1131.43 94.5104 1138.56 Q94.5104 1145.66 96.316 1149.23 Q98.1447 1152.77 101.756 1152.77 Q105.39 1152.77 107.196 1149.23 Q109.024 1145.66 109.024 1138.56 Q109.024 1131.43 107.196 1127.89 Q105.39 1124.32 101.756 1124.32 M101.756 1120.62 Q107.566 1120.62 110.621 1125.23 Q113.7 1129.81 113.7 1138.56 Q113.7 1147.29 110.621 1151.89 Q107.566 1156.47 101.756 1156.47 Q95.9456 1156.47 92.8669 1151.89 Q89.8114 1147.29 89.8114 1138.56 Q89.8114 1129.81 92.8669 1125.23 Q95.9456 1120.62 101.756 1120.62 Z\" fill=\"#000000\" fill-rule=\"nonzero\" fill-opacity=\"1\" /><path clip-path=\"url(#clip300)\" d=\"M121.918 1149.92 L126.802 1149.92 L126.802 1155.8 L121.918 1155.8 L121.918 1149.92 Z\" fill=\"#000000\" fill-rule=\"nonzero\" fill-opacity=\"1\" /><path clip-path=\"url(#clip300)\" d=\"M146.987 1124.32 Q143.376 1124.32 141.547 1127.89 Q139.742 1131.43 139.742 1138.56 Q139.742 1145.66 141.547 1149.23 Q143.376 1152.77 146.987 1152.77 Q150.621 1152.77 152.427 1149.23 Q154.255 1145.66 154.255 1138.56 Q154.255 1131.43 152.427 1127.89 Q150.621 1124.32 146.987 1124.32 M146.987 1120.62 Q152.797 1120.62 155.853 1125.23 Q158.931 1129.81 158.931 1138.56 Q158.931 1147.29 155.853 1151.89 Q152.797 1156.47 146.987 1156.47 Q141.177 1156.47 138.098 1151.89 Q135.043 1147.29 135.043 1138.56 Q135.043 1129.81 138.098 1125.23 Q141.177 1120.62 146.987 1120.62 Z\" fill=\"#000000\" fill-rule=\"nonzero\" fill-opacity=\"1\" /><path clip-path=\"url(#clip300)\" d=\"M165.968 1121.24 L188.19 1121.24 L188.19 1123.23 L175.644 1155.8 L170.76 1155.8 L182.565 1125.18 L165.968 1125.18 L165.968 1121.24 Z\" fill=\"#000000\" fill-rule=\"nonzero\" fill-opacity=\"1\" /><path clip-path=\"url(#clip300)\" d=\"M197.357 1121.24 L215.713 1121.24 L215.713 1125.18 L201.639 1125.18 L201.639 1133.65 Q202.658 1133.3 203.676 1133.14 Q204.695 1132.96 205.714 1132.96 Q211.501 1132.96 214.88 1136.13 Q218.26 1139.3 218.26 1144.72 Q218.26 1150.29 214.788 1153.4 Q211.315 1156.47 204.996 1156.47 Q202.82 1156.47 200.552 1156.1 Q198.306 1155.73 195.899 1154.99 L195.899 1150.29 Q197.982 1151.43 200.204 1151.98 Q202.426 1152.54 204.903 1152.54 Q208.908 1152.54 211.246 1150.43 Q213.584 1148.33 213.584 1144.72 Q213.584 1141.1 211.246 1139 Q208.908 1136.89 204.903 1136.89 Q203.028 1136.89 201.153 1137.31 Q199.302 1137.72 197.357 1138.6 L197.357 1121.24 Z\" fill=\"#000000\" fill-rule=\"nonzero\" fill-opacity=\"1\" /><path clip-path=\"url(#clip300)\" d=\"M50.9921 813.483 L80.6679 813.483 L80.6679 817.418 L50.9921 817.418 L50.9921 813.483 Z\" fill=\"#000000\" fill-rule=\"nonzero\" fill-opacity=\"1\" /><path clip-path=\"url(#clip300)\" d=\"M100.76 798.83 Q97.1493 798.83 95.3206 802.395 Q93.515 805.936 93.515 813.066 Q93.515 820.173 95.3206 823.737 Q97.1493 827.279 100.76 827.279 Q104.395 827.279 106.2 823.737 Q108.029 820.173 108.029 813.066 Q108.029 805.936 106.2 802.395 Q104.395 798.83 100.76 798.83 M100.76 795.126 Q106.571 795.126 109.626 799.733 Q112.705 804.316 112.705 813.066 Q112.705 821.793 109.626 826.399 Q106.571 830.983 100.76 830.983 Q94.9502 830.983 91.8715 826.399 Q88.816 821.793 88.816 813.066 Q88.816 804.316 91.8715 799.733 Q94.9502 795.126 100.76 795.126 Z\" fill=\"#000000\" fill-rule=\"nonzero\" fill-opacity=\"1\" /><path clip-path=\"url(#clip300)\" d=\"M120.922 824.432 L125.807 824.432 L125.807 830.311 L120.922 830.311 L120.922 824.432 Z\" fill=\"#000000\" fill-rule=\"nonzero\" fill-opacity=\"1\" /><path clip-path=\"url(#clip300)\" d=\"M145.992 798.83 Q142.381 798.83 140.552 802.395 Q138.746 805.936 138.746 813.066 Q138.746 820.173 140.552 823.737 Q142.381 827.279 145.992 827.279 Q149.626 827.279 151.431 823.737 Q153.26 820.173 153.26 813.066 Q153.26 805.936 151.431 802.395 Q149.626 798.83 145.992 798.83 M145.992 795.126 Q151.802 795.126 154.857 799.733 Q157.936 804.316 157.936 813.066 Q157.936 821.793 154.857 826.399 Q151.802 830.983 145.992 830.983 Q140.181 830.983 137.103 826.399 Q134.047 821.793 134.047 813.066 Q134.047 804.316 137.103 799.733 Q140.181 795.126 145.992 795.126 Z\" fill=\"#000000\" fill-rule=\"nonzero\" fill-opacity=\"1\" /><path clip-path=\"url(#clip300)\" d=\"M166.2 795.751 L184.556 795.751 L184.556 799.687 L170.482 799.687 L170.482 808.159 Q171.501 807.811 172.519 807.649 Q173.538 807.464 174.556 807.464 Q180.343 807.464 183.723 810.636 Q187.103 813.807 187.103 819.223 Q187.103 824.802 183.63 827.904 Q180.158 830.983 173.839 830.983 Q171.663 830.983 169.394 830.612 Q167.149 830.242 164.742 829.501 L164.742 824.802 Q166.825 825.936 169.047 826.492 Q171.269 827.047 173.746 827.047 Q177.751 827.047 180.089 824.941 Q182.427 822.835 182.427 819.223 Q182.427 815.612 180.089 813.506 Q177.751 811.399 173.746 811.399 Q171.871 811.399 169.996 811.816 Q168.144 812.233 166.2 813.112 L166.2 795.751 Z\" fill=\"#000000\" fill-rule=\"nonzero\" fill-opacity=\"1\" /><path clip-path=\"url(#clip300)\" d=\"M206.315 798.83 Q202.704 798.83 200.876 802.395 Q199.07 805.936 199.07 813.066 Q199.07 820.173 200.876 823.737 Q202.704 827.279 206.315 827.279 Q209.95 827.279 211.755 823.737 Q213.584 820.173 213.584 813.066 Q213.584 805.936 211.755 802.395 Q209.95 798.83 206.315 798.83 M206.315 795.126 Q212.126 795.126 215.181 799.733 Q218.26 804.316 218.26 813.066 Q218.26 821.793 215.181 826.399 Q212.126 830.983 206.315 830.983 Q200.505 830.983 197.427 826.399 Q194.371 821.793 194.371 813.066 Q194.371 804.316 197.427 799.733 Q200.505 795.126 206.315 795.126 Z\" fill=\"#000000\" fill-rule=\"nonzero\" fill-opacity=\"1\" /><path clip-path=\"url(#clip300)\" d=\"M51.9875 487.991 L81.6633 487.991 L81.6633 491.926 L51.9875 491.926 L51.9875 487.991 Z\" fill=\"#000000\" fill-rule=\"nonzero\" fill-opacity=\"1\" /><path clip-path=\"url(#clip300)\" d=\"M101.756 473.338 Q98.1447 473.338 96.316 476.903 Q94.5104 480.444 94.5104 487.574 Q94.5104 494.68 96.316 498.245 Q98.1447 501.787 101.756 501.787 Q105.39 501.787 107.196 498.245 Q109.024 494.68 109.024 487.574 Q109.024 480.444 107.196 476.903 Q105.39 473.338 101.756 473.338 M101.756 469.634 Q107.566 469.634 110.621 474.241 Q113.7 478.824 113.7 487.574 Q113.7 496.301 110.621 500.907 Q107.566 505.49 101.756 505.49 Q95.9456 505.49 92.8669 500.907 Q89.8114 496.301 89.8114 487.574 Q89.8114 478.824 92.8669 474.241 Q95.9456 469.634 101.756 469.634 Z\" fill=\"#000000\" fill-rule=\"nonzero\" fill-opacity=\"1\" /><path clip-path=\"url(#clip300)\" d=\"M121.918 498.94 L126.802 498.94 L126.802 504.819 L121.918 504.819 L121.918 498.94 Z\" fill=\"#000000\" fill-rule=\"nonzero\" fill-opacity=\"1\" /><path clip-path=\"url(#clip300)\" d=\"M146.987 473.338 Q143.376 473.338 141.547 476.903 Q139.742 480.444 139.742 487.574 Q139.742 494.68 141.547 498.245 Q143.376 501.787 146.987 501.787 Q150.621 501.787 152.427 498.245 Q154.255 494.68 154.255 487.574 Q154.255 480.444 152.427 476.903 Q150.621 473.338 146.987 473.338 M146.987 469.634 Q152.797 469.634 155.853 474.241 Q158.931 478.824 158.931 487.574 Q158.931 496.301 155.853 500.907 Q152.797 505.49 146.987 505.49 Q141.177 505.49 138.098 500.907 Q135.043 496.301 135.043 487.574 Q135.043 478.824 138.098 474.241 Q141.177 469.634 146.987 469.634 Z\" fill=\"#000000\" fill-rule=\"nonzero\" fill-opacity=\"1\" /><path clip-path=\"url(#clip300)\" d=\"M171.177 500.884 L187.496 500.884 L187.496 504.819 L165.552 504.819 L165.552 500.884 Q168.214 498.129 172.797 493.5 Q177.403 488.847 178.584 487.504 Q180.829 484.981 181.709 483.245 Q182.612 481.486 182.612 479.796 Q182.612 477.042 180.667 475.305 Q178.746 473.569 175.644 473.569 Q173.445 473.569 170.991 474.333 Q168.561 475.097 165.783 476.648 L165.783 471.926 Q168.607 470.792 171.061 470.213 Q173.515 469.634 175.552 469.634 Q180.922 469.634 184.116 472.319 Q187.311 475.004 187.311 479.495 Q187.311 481.625 186.501 483.546 Q185.714 485.444 183.607 488.037 Q183.028 488.708 179.927 491.926 Q176.825 495.12 171.177 500.884 Z\" fill=\"#000000\" fill-rule=\"nonzero\" fill-opacity=\"1\" /><path clip-path=\"url(#clip300)\" d=\"M197.357 470.259 L215.713 470.259 L215.713 474.194 L201.639 474.194 L201.639 482.666 Q202.658 482.319 203.676 482.157 Q204.695 481.972 205.714 481.972 Q211.501 481.972 214.88 485.143 Q218.26 488.315 218.26 493.731 Q218.26 499.31 214.788 502.412 Q211.315 505.49 204.996 505.49 Q202.82 505.49 200.552 505.12 Q198.306 504.75 195.899 504.009 L195.899 499.31 Q197.982 500.444 200.204 501 Q202.426 501.555 204.903 501.555 Q208.908 501.555 211.246 499.449 Q213.584 497.342 213.584 493.731 Q213.584 490.12 211.246 488.014 Q208.908 485.907 204.903 485.907 Q203.028 485.907 201.153 486.324 Q199.302 486.741 197.357 487.62 L197.357 470.259 Z\" fill=\"#000000\" fill-rule=\"nonzero\" fill-opacity=\"1\" /><path clip-path=\"url(#clip300)\" d=\"M100.76 147.846 Q97.1493 147.846 95.3206 151.41 Q93.515 154.952 93.515 162.082 Q93.515 169.188 95.3206 172.753 Q97.1493 176.295 100.76 176.295 Q104.395 176.295 106.2 172.753 Q108.029 169.188 108.029 162.082 Q108.029 154.952 106.2 151.41 Q104.395 147.846 100.76 147.846 M100.76 144.142 Q106.571 144.142 109.626 148.748 Q112.705 153.332 112.705 162.082 Q112.705 170.808 109.626 175.415 Q106.571 179.998 100.76 179.998 Q94.9502 179.998 91.8715 175.415 Q88.816 170.808 88.816 162.082 Q88.816 153.332 91.8715 148.748 Q94.9502 144.142 100.76 144.142 Z\" fill=\"#000000\" fill-rule=\"nonzero\" fill-opacity=\"1\" /><path clip-path=\"url(#clip300)\" d=\"M120.922 173.447 L125.807 173.447 L125.807 179.327 L120.922 179.327 L120.922 173.447 Z\" fill=\"#000000\" fill-rule=\"nonzero\" fill-opacity=\"1\" /><path clip-path=\"url(#clip300)\" d=\"M145.992 147.846 Q142.381 147.846 140.552 151.41 Q138.746 154.952 138.746 162.082 Q138.746 169.188 140.552 172.753 Q142.381 176.295 145.992 176.295 Q149.626 176.295 151.431 172.753 Q153.26 169.188 153.26 162.082 Q153.26 154.952 151.431 151.41 Q149.626 147.846 145.992 147.846 M145.992 144.142 Q151.802 144.142 154.857 148.748 Q157.936 153.332 157.936 162.082 Q157.936 170.808 154.857 175.415 Q151.802 179.998 145.992 179.998 Q140.181 179.998 137.103 175.415 Q134.047 170.808 134.047 162.082 Q134.047 153.332 137.103 148.748 Q140.181 144.142 145.992 144.142 Z\" fill=\"#000000\" fill-rule=\"nonzero\" fill-opacity=\"1\" /><path clip-path=\"url(#clip300)\" d=\"M176.153 147.846 Q172.542 147.846 170.714 151.41 Q168.908 154.952 168.908 162.082 Q168.908 169.188 170.714 172.753 Q172.542 176.295 176.153 176.295 Q179.788 176.295 181.593 172.753 Q183.422 169.188 183.422 162.082 Q183.422 154.952 181.593 151.41 Q179.788 147.846 176.153 147.846 M176.153 144.142 Q181.964 144.142 185.019 148.748 Q188.098 153.332 188.098 162.082 Q188.098 170.808 185.019 175.415 Q181.964 179.998 176.153 179.998 Q170.343 179.998 167.265 175.415 Q164.209 170.808 164.209 162.082 Q164.209 153.332 167.265 148.748 Q170.343 144.142 176.153 144.142 Z\" fill=\"#000000\" fill-rule=\"nonzero\" fill-opacity=\"1\" /><path clip-path=\"url(#clip300)\" d=\"M206.315 147.846 Q202.704 147.846 200.876 151.41 Q199.07 154.952 199.07 162.082 Q199.07 169.188 200.876 172.753 Q202.704 176.295 206.315 176.295 Q209.95 176.295 211.755 172.753 Q213.584 169.188 213.584 162.082 Q213.584 154.952 211.755 151.41 Q209.95 147.846 206.315 147.846 M206.315 144.142 Q212.126 144.142 215.181 148.748 Q218.26 153.332 218.26 162.082 Q218.26 170.808 215.181 175.415 Q212.126 179.998 206.315 179.998 Q200.505 179.998 197.427 175.415 Q194.371 170.808 194.371 162.082 Q194.371 153.332 197.427 148.748 Q200.505 144.142 206.315 144.142 Z\" fill=\"#000000\" fill-rule=\"nonzero\" fill-opacity=\"1\" /><path clip-path=\"url(#clip300)\" d=\"M1162.9 65.3654 L1162.9 72.576 L1138.6 72.576 L1138.6 65.3654 Q1145.77 61.436 1149.78 54.7115 Q1153.79 47.987 1153.79 39.8042 Q1153.79 30.082 1148.44 24.2082 Q1143.09 18.3344 1134.34 18.3344 Q1125.59 18.3344 1120.2 24.2487 Q1114.86 30.1225 1114.86 39.8042 Q1114.86 47.987 1118.87 54.7115 Q1122.92 61.436 1130.13 65.3654 L1130.13 72.576 L1105.82 72.576 L1105.82 65.3654 L1118.75 65.3654 Q1112.35 59.7346 1109.39 53.6988 Q1106.47 47.6629 1106.47 40.2093 Q1106.47 27.3274 1114.25 19.3471 Q1121.99 11.3668 1134.34 11.3668 Q1146.62 11.3668 1154.43 19.3471 Q1162.21 27.2869 1162.21 39.8042 Q1162.21 47.6629 1159.34 53.6583 Q1156.46 59.6536 1149.94 65.3654 L1162.9 65.3654 Z\" fill=\"#000000\" fill-rule=\"nonzero\" fill-opacity=\"1\" /><path clip-path=\"url(#clip300)\" d=\"M1170.11 46.5287 L1191.95 46.5287 L1191.95 53.1722 L1170.11 53.1722 L1170.11 46.5287 Z\" fill=\"#000000\" fill-rule=\"nonzero\" fill-opacity=\"1\" /><path clip-path=\"url(#clip300)\" d=\"M1256.23 65.3654 L1256.23 72.576 L1231.93 72.576 L1231.93 65.3654 Q1239.1 61.436 1243.11 54.7115 Q1247.12 47.987 1247.12 39.8042 Q1247.12 30.082 1241.77 24.2082 Q1236.42 18.3344 1227.67 18.3344 Q1218.92 18.3344 1213.54 24.2487 Q1208.19 30.1225 1208.19 39.8042 Q1208.19 47.987 1212.2 54.7115 Q1216.25 61.436 1223.46 65.3654 L1223.46 72.576 L1199.16 72.576 L1199.16 65.3654 L1212.08 65.3654 Q1205.68 59.7346 1202.72 53.6988 Q1199.8 47.6629 1199.8 40.2093 Q1199.8 27.3274 1207.58 19.3471 Q1215.32 11.3668 1227.67 11.3668 Q1239.95 11.3668 1247.77 19.3471 Q1255.55 27.2869 1255.55 39.8042 Q1255.55 47.6629 1252.67 53.6583 Q1249.79 59.6536 1243.27 65.3654 L1256.23 65.3654 Z\" fill=\"#000000\" fill-rule=\"nonzero\" fill-opacity=\"1\" /><path clip-path=\"url(#clip300)\" d=\"M1282.48 45.1514 Q1280.46 41.6676 1276.37 41.6676 Q1272.28 41.6676 1270.25 45.1514 Q1268.18 48.6352 1268.18 55.6027 Q1268.18 62.6108 1270.25 66.0946 Q1272.28 69.5783 1276.37 69.5783 Q1280.46 69.5783 1282.48 66.0946 Q1284.55 62.6108 1284.55 55.6027 Q1284.55 48.6352 1282.48 45.1514 M1276.37 38.0623 Q1282.89 38.0623 1286.33 42.5588 Q1289.78 47.0553 1289.78 55.6027 Q1289.78 64.1906 1286.33 68.6871 Q1282.89 73.1836 1276.37 73.1836 Q1269.8 73.1836 1266.36 68.6871 Q1262.92 64.1906 1262.92 55.6027 Q1262.92 47.0553 1266.36 42.5588 Q1269.8 38.0623 1276.37 38.0623 Z\" fill=\"#000000\" fill-rule=\"nonzero\" fill-opacity=\"1\" /><path clip-path=\"url(#clip300)\" d=\"M1321.49 27.2059 L1329.39 27.2059 L1343.57 65.2844 L1357.75 27.2059 L1365.65 27.2059 L1348.63 72.576 L1338.51 72.576 L1321.49 27.2059 Z\" fill=\"#000000\" fill-rule=\"nonzero\" fill-opacity=\"1\" /><path clip-path=\"url(#clip300)\" d=\"M1404.86 28.5427 L1404.86 35.5912 Q1401.7 33.9709 1398.3 33.1607 Q1394.9 32.3505 1391.25 32.3505 Q1385.7 32.3505 1382.91 34.0519 Q1380.15 35.7533 1380.15 39.156 Q1380.15 41.7486 1382.14 43.2475 Q1384.12 44.7058 1390.12 46.0426 L1392.67 46.6097 Q1400.61 48.3111 1403.93 51.4303 Q1407.29 54.509 1407.29 60.0587 Q1407.29 66.3781 1402.27 70.0644 Q1397.29 73.7508 1388.54 73.7508 Q1384.89 73.7508 1380.92 73.0216 Q1376.99 72.3329 1372.62 70.9151 L1372.62 63.2184 Q1376.75 65.3654 1380.76 66.4591 Q1384.77 67.5124 1388.7 67.5124 Q1393.96 67.5124 1396.8 65.73 Q1399.64 63.9071 1399.64 60.6258 Q1399.64 57.5877 1397.57 55.9673 Q1395.54 54.3469 1388.62 52.8481 L1386.02 52.2405 Q1379.1 50.7821 1376.02 47.7845 Q1372.94 44.7463 1372.94 39.4801 Q1372.94 33.0797 1377.48 29.5959 Q1382.01 26.1121 1390.36 26.1121 Q1394.49 26.1121 1398.14 26.7198 Q1401.78 27.3274 1404.86 28.5427 Z\" fill=\"#000000\" fill-rule=\"nonzero\" fill-opacity=\"1\" /><path clip-path=\"url(#clip300)\" d=\"M1445.86 12.096 L1458.05 12.096 L1473.48 53.2532 L1489 12.096 L1501.19 12.096 L1501.19 72.576 L1493.21 72.576 L1493.21 19.4686 L1477.62 60.9499 L1469.39 60.9499 L1453.8 19.4686 L1453.8 72.576 L1445.86 72.576 L1445.86 12.096 Z\" fill=\"#000000\" fill-rule=\"nonzero\" fill-opacity=\"1\" /><polyline clip-path=\"url(#clip302)\" style=\"stroke:#009af9; stroke-linecap:round; stroke-linejoin:round; stroke-width:4; stroke-opacity:1; fill:none\" points=\"313.651,162.047 354.053,263.655 394.456,480.849 434.858,702.737 475.26,886.141 515.663,1026.14 556.065,1130.09 596.467,1206.96 636.87,1264.16 677.272,1307.17 717.674,1339.87 758.077,1365 798.479,1384.49 838.881,1399.7 879.284,1411.63 919.686,1421 960.088,1428.35 1000.49,1434.08 1040.89,1438.51 1081.3,1441.87 1121.7,1444.34 1162.1,1446.07 1202.5,1447.17 1242.9,1447.75 1283.31,1447.87 1323.71,1447.6 1364.11,1446.99 1404.51,1446.09 1444.92,1444.92 1485.32,1443.51 1525.72,1441.9 1566.12,1440.11 1606.53,1438.15 1646.93,1436.04 1687.33,1433.79 1727.73,1431.43 1768.13,1428.94 1808.54,1426.36 1848.94,1423.68 1889.34,1420.91 1929.74,1418.06 1970.15,1415.13 2010.55,1412.14 2050.95,1409.08 2091.35,1405.96 2131.76,1402.78 2172.16,1399.55 2212.56,1396.28 2252.96,1392.95 2293.36,1389.58 \"/>\n",
       "<circle clip-path=\"url(#clip302)\" cx=\"1283.31\" cy=\"1447.87\" r=\"14.4\" fill=\"#000000\" fill-rule=\"evenodd\" fill-opacity=\"1\" stroke=\"none\"/>\n",
       "<polyline clip-path=\"url(#clip302)\" style=\"stroke:#3da44d; stroke-linecap:round; stroke-linejoin:round; stroke-width:4; stroke-opacity:1; fill:none\" points=\"313.651,162.047 354.053,182.795 394.456,240.933 434.858,326.087 475.26,425.842 515.663,529.374 556.065,629.101 596.467,720.67 636.87,802.193 677.272,873.363 717.674,934.753 758.077,987.344 798.479,1032.24 838.881,1070.52 879.284,1103.17 919.686,1131.05 960.088,1154.89 1000.49,1175.3 1040.89,1192.81 1081.3,1207.85 1121.7,1220.77 1162.1,1231.88 1202.5,1241.43 1242.9,1249.63 1283.31,1256.66 1323.71,1262.66 1364.11,1267.75 1404.51,1272.06 1444.92,1275.66 1485.32,1278.63 1525.72,1281.05 1566.12,1282.98 1606.53,1284.45 1646.93,1285.52 1687.33,1286.23 1727.73,1286.61 1768.13,1286.68 1808.54,1286.48 1848.94,1286.03 1889.34,1285.35 1929.74,1284.46 1970.15,1283.37 2010.55,1282.1 2050.95,1280.67 2091.35,1279.09 2131.76,1277.36 2172.16,1275.5 2212.56,1273.52 2252.96,1271.43 2293.36,1269.23 \"/>\n",
       "<circle clip-path=\"url(#clip302)\" cx=\"1768.13\" cy=\"1286.68\" r=\"14.4\" fill=\"#000000\" fill-rule=\"evenodd\" fill-opacity=\"1\" stroke=\"none\"/>\n",
       "<polyline clip-path=\"url(#clip302)\" style=\"stroke:#ac8d18; stroke-linecap:round; stroke-linejoin:round; stroke-width:4; stroke-opacity:1; fill:none\" points=\"313.651,162.047 354.053,171.795 394.456,199.551 434.858,241.38 475.26,292.153 515.663,346.869 556.065,401.513 596.467,453.352 636.87,500.828 677.272,543.272 717.674,580.604 758.077,613.085 798.479,641.147 838.881,665.283 879.284,685.985 919.686,703.71 960.088,718.866 1000.49,731.813 1040.89,742.856 1081.3,752.261 1121.7,760.25 1162.1,767.014 1202.5,772.715 1242.9,777.488 1283.31,781.452 1323.71,784.706 1364.11,787.335 1404.51,789.413 1444.92,791.004 1485.32,792.162 1525.72,792.936 1566.12,793.366 1606.53,793.49 1646.93,793.34 1687.33,792.944 1727.73,792.328 1768.13,791.513 1808.54,790.519 1848.94,789.364 1889.34,788.065 1929.74,786.634 1970.15,785.086 2010.55,783.431 2050.95,781.68 2091.35,779.843 2131.76,777.928 2172.16,775.942 2212.56,773.894 2252.96,771.789 2293.36,769.633 \"/>\n",
       "<circle clip-path=\"url(#clip302)\" cx=\"1606.53\" cy=\"793.49\" r=\"14.4\" fill=\"#000000\" fill-rule=\"evenodd\" fill-opacity=\"1\" stroke=\"none\"/>\n",
       "<polyline clip-path=\"url(#clip302)\" style=\"stroke:#ed5d92; stroke-linecap:round; stroke-linejoin:round; stroke-width:4; stroke-opacity:1; fill:none\" points=\"313.651,162.047 354.053,171.605 394.456,198.165 434.858,236.432 475.26,280.211 515.663,324.337 556.065,365.462 596.467,401.919 636.87,433.217 677.272,459.543 717.674,481.399 758.077,499.39 798.479,514.107 838.881,526.085 879.284,535.782 919.686,543.582 960.088,549.802 1000.49,554.705 1040.89,558.504 1081.3,561.375 1121.7,563.464 1162.1,564.891 1202.5,565.754 1242.9,566.139 1283.31,566.114 1323.71,565.738 1364.11,565.062 1404.51,564.128 1444.92,562.971 1485.32,561.625 1525.72,560.114 1566.12,558.463 1606.53,556.692 1646.93,554.818 1687.33,552.857 1727.73,550.821 1768.13,548.723 1808.54,546.573 1848.94,544.379 1889.34,542.151 1929.74,539.894 1970.15,537.616 2010.55,535.321 2050.95,533.014 2091.35,530.7 2131.76,528.382 2172.16,526.064 2212.56,523.749 2252.96,521.439 2293.36,519.136 \"/>\n",
       "<circle clip-path=\"url(#clip302)\" cx=\"1242.9\" cy=\"566.139\" r=\"14.4\" fill=\"#000000\" fill-rule=\"evenodd\" fill-opacity=\"1\" stroke=\"none\"/>\n",
       "<polyline clip-path=\"url(#clip302)\" style=\"stroke:#00a98d; stroke-linecap:round; stroke-linejoin:round; stroke-width:4; stroke-opacity:1; fill:none\" points=\"313.651,162.047 354.053,172.715 394.456,201.256 434.858,239.704 475.26,280.143 515.663,317.409 556.065,349.219 596.467,375.174 636.87,395.791 677.272,411.893 717.674,424.314 758.077,433.787 798.479,440.912 838.881,446.171 879.284,449.94 919.686,452.518 960.088,454.136 1000.49,454.98 1040.89,455.195 1081.3,454.898 1121.7,454.184 1162.1,453.13 1202.5,451.796 1242.9,450.235 1283.31,448.489 1323.71,446.593 1364.11,444.576 1404.51,442.462 1444.92,440.272 1485.32,438.023 1525.72,435.73 1566.12,433.404 1606.53,431.058 1646.93,428.698 1687.33,426.333 1727.73,423.969 1768.13,421.611 1808.54,419.264 1848.94,416.931 1889.34,414.617 1929.74,412.322 1970.15,410.051 2010.55,407.803 2050.95,405.582 2091.35,403.388 2131.76,401.222 2172.16,399.085 2212.56,396.977 2252.96,394.899 2293.36,392.851 \"/>\n",
       "<circle clip-path=\"url(#clip302)\" cx=\"1040.89\" cy=\"455.195\" r=\"14.4\" fill=\"#000000\" fill-rule=\"evenodd\" fill-opacity=\"1\" stroke=\"none\"/>\n",
       "</svg>\n"
      ]
     },
     "metadata": {},
     "output_type": "display_data"
    }
   ],
   "source": [
    "function plotgps(gps, M, L, N)\n",
    "    f = plot(range(0, M, L), gps[1,:] .- maximum(gps[1,:]), label=nothing,legend=:topright, title=\"Ω-Ω₀ vs M\")\n",
    "    scatter!([range(0, M, L)[argmin(gps[1,:] .- maximum(gps[1,:]))]], [minimum(gps[1,:] .- maximum(gps[1,:]))], markercolor=:black, markersize=4, label=nothing)\n",
    "    for i in 2:N\n",
    "        plot!(range(0, M, L), gps[i,:] .- maximum(gps[i,:]), label=nothing,legend=:topright)\n",
    "        scatter!([range(0, M, L)[argmin(gps[i,:] .- maximum(gps[i,:]))]], [minimum(gps[i,:] .- maximum(gps[i,:]))], markercolor=:black, markersize=4, label=nothing)\n",
    "    end\n",
    "    return f\n",
    "end\n",
    "\n",
    "plotgps(gps, 0.3, 50, 5)"
   ]
  }
 ],
 "metadata": {
  "kernelspec": {
   "display_name": "Julia 1.8.2",
   "language": "julia",
   "name": "julia-1.8"
  },
  "language_info": {
   "file_extension": ".jl",
   "mimetype": "application/julia",
   "name": "julia",
   "version": "1.8.2"
  },
  "orig_nbformat": 4
 },
 "nbformat": 4,
 "nbformat_minor": 2
}
