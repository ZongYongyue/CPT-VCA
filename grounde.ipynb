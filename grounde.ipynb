{
 "cells": [
  {
   "cell_type": "code",
   "execution_count": 1,
   "metadata": {},
   "outputs": [],
   "source": [
    "using CPTVCA\n",
    "using ExactDiagonalization\n",
    "using QuantumLattices\n",
    "using Distributed\n",
    "using Plots\n",
    "using LinearAlgebra"
   ]
  },
  {
   "cell_type": "code",
   "execution_count": 3,
   "metadata": {},
   "outputs": [
    {
     "data": {
      "text/plain": [
       "Lattice(lattice)\n",
       "  with 1 point:\n",
       "    [0.0, 0.0]\n",
       "  with 2 translation vectors:\n",
       "    [1.0, 0.0]\n",
       "    [0.0, 1.0]\n"
      ]
     },
     "metadata": {},
     "output_type": "display_data"
    }
   ],
   "source": [
    "tri = Lattice([0, 0]; vectors=[[1, 0],[-1/2, √3/2]])\n",
    "sq = Lattice([0, 0]; vectors=[[1, 0],[0, 1]])"
   ]
  },
  {
   "cell_type": "code",
   "execution_count": 4,
   "metadata": {},
   "outputs": [
    {
     "data": {
      "text/plain": [
       "-1.6208723769030133"
      ]
     },
     "metadata": {},
     "output_type": "display_data"
    }
   ],
   "source": [
    "function ek(nv::AbstractVector, t::Real, k::AbstractVector)\n",
    "    ek = 0.0\n",
    "    for i in eachindex(nv)\n",
    "        ek += (exp(im*dot(k, nv[i])) + exp(-im*dot(k, nv[i])))\n",
    "    end\n",
    "    return t*ek.re\n",
    "end\n",
    "function tbae(nv::AbstractVector, t::Real, rz::AbstractVector, ff::Real)\n",
    "    e = Vector{Float64}(undef, length(rz))\n",
    "    for i in eachindex(rz)\n",
    "        e[i] = ek(nv, t, rz[i])\n",
    "    end\n",
    "    ne = sort(e)\n",
    "    return sum(ne[1:Int(length(rz)*ff)])/length(ne[1:Int(length(rz)*ff)])\n",
    "end\n",
    "ttrbz = ReciprocalZone(reciprocals(tri.vectors); length=100)\n",
    "tsqbz = ReciprocalZone(reciprocals(sq.vectors); length=100)\n",
    "ttba = tbae([[1,0],[1/2,√3/2],[-1/2,√3/2]], -1, ttrbz, 1//2)\n",
    "stba = tbae([[1,0],[0,1]], -1, tsqbz, 1//2)"
   ]
  },
  {
   "cell_type": "code",
   "execution_count": 7,
   "metadata": {},
   "outputs": [
    {
     "data": {
      "text/plain": [
       "-1.9765510227181091"
      ]
     },
     "metadata": {},
     "output_type": "display_data"
    }
   ],
   "source": [
    "ttba"
   ]
  },
  {
   "cell_type": "code",
   "execution_count": 8,
   "metadata": {},
   "outputs": [
    {
     "data": {
      "text/plain": [
       "-1.6208723769030133"
      ]
     },
     "metadata": {},
     "output_type": "display_data"
    }
   ],
   "source": [
    "stba"
   ]
  },
  {
   "cell_type": "code",
   "execution_count": 12,
   "metadata": {},
   "outputs": [
    {
     "data": {
      "text/plain": [
       "-2.06500566677399"
      ]
     },
     "metadata": {},
     "output_type": "display_data"
    }
   ],
   "source": [
    "trc = Lattice(tri,(2,2),('p','p'))\n",
    "#trc = Lattice([0, 0],[1, 0], [1/2, √3/2];vectors=[[3/2,√3/2],[0,√3]])\n",
    "trbz = ReciprocalZone(reciprocals(trc.vectors); length=100)\n",
    "hilbert = Hilbert(site=>Fock{:f}(1, 2) for site=1:length(trc))\n",
    "cons= Conservation(4, 1//2; np=4, sz=0)\n",
    "t = Hopping(:t, Complex(-1.0), 1)\n",
    "origiterms = (t,)\n",
    "referterms = (t,)\n",
    "neighbors = Neighbors(0=>0.0, 1=>1.0)\n",
    "trvca = VCA(tri, trc, hilbert, origiterms, referterms, cons; neighbors=neighbors, m=200)\n",
    "trgp = GrandPotential(trvca, trbz, 0)\n",
    "trgp[1]"
   ]
  },
  {
   "cell_type": "code",
   "execution_count": 6,
   "metadata": {},
   "outputs": [
    {
     "data": {
      "text/plain": [
       "(-2.0650233956126196, -5.057641179973375, 0.0)"
      ]
     },
     "metadata": {},
     "output_type": "display_data"
    }
   ],
   "source": [
    "trc = Lattice([0.0, 0.0], [1, 0], [-1/2, √3/2], [1/2, √3/2], [3/2, √3/2], [-1, √3], [0, √3], [1, √3], [2, √3], [-1/2, 3√3/2], [1/2, 3√3/2], [3/2, 3√3/2]; vectors = [[3, √3], [-3, √3]])\n",
    "trbz = ReciprocalZone(reciprocals(trc.vectors); length=100)\n",
    "hilbert = Hilbert(site=>Fock{:f}(1, 2) for site=1:length(trc))\n",
    "cons= Conservation(12, 1//2; np=12, sz=0)\n",
    "t = Hopping(:t, Complex(-1.0), 1)\n",
    "origiterms = (t,)\n",
    "referterms = (t,)\n",
    "neighbors = Neighbors(0=>0.0, 1=>1.0)\n",
    "trvca = VCA(tri, trc, hilbert, origiterms, referterms, cons; neighbors=neighbors, m=200)\n",
    "trgp = GrandPotential(trvca, trbz, 0)"
   ]
  },
  {
   "cell_type": "code",
   "execution_count": 9,
   "metadata": {},
   "outputs": [
    {
     "data": {
      "text/plain": [
       "-2.0650233956126196"
      ]
     },
     "metadata": {},
     "output_type": "display_data"
    }
   ],
   "source": [
    "trgp[1]"
   ]
  },
  {
   "cell_type": "code",
   "execution_count": 13,
   "metadata": {},
   "outputs": [
    {
     "data": {
      "text/plain": [
       "-1.621072277212208"
      ]
     },
     "metadata": {},
     "output_type": "display_data"
    }
   ],
   "source": [
    "sqc = Lattice(sq,(2,2),('p','p'))\n",
    "sqbz = ReciprocalZone(reciprocals(sqc.vectors); length=100)\n",
    "hilbert = Hilbert(site=>Fock{:f}(1, 2) for site=1:length(sqc))\n",
    "cons= Conservation(4, 1//2; np=4, sz=0)\n",
    "t = Hopping(:t, Complex(-1.0), 1)\n",
    "origiterms = (t,)\n",
    "referterms = (t,)\n",
    "neighbors = Neighbors(0=>0.0, 1=>1.0)\n",
    "sqvca = VCA(sq, sqc, hilbert, origiterms, referterms, cons; neighbors=neighbors, m=200)\n",
    "sqgp = GrandPotential(sqvca, sqbz, 0) \n",
    "sqgp[1]"
   ]
  },
  {
   "cell_type": "code",
   "execution_count": 14,
   "metadata": {},
   "outputs": [
    {
     "data": {
      "text/plain": [
       "-1.621122275760784"
      ]
     },
     "metadata": {},
     "output_type": "display_data"
    }
   ],
   "source": [
    "sqc = Lattice(sq,(2,4),('p','p'))\n",
    "sqbz = ReciprocalZone(reciprocals(sqc.vectors); length=100)\n",
    "hilbert = Hilbert(site=>Fock{:f}(1, 2) for site=1:length(sqc))\n",
    "cons= Conservation(8, 1//2; np=8, sz=0)\n",
    "t = Hopping(:t, Complex(-1.0), 1)\n",
    "origiterms = (t,)\n",
    "referterms = (t,)\n",
    "neighbors = Neighbors(0=>0.0, 1=>1.0)\n",
    "sqvca = VCA(sq, sqc, hilbert, origiterms, referterms, cons; neighbors=neighbors, m=200)\n",
    "sqgp = GrandPotential(sqvca, sqbz, 0) \n",
    "sqgp[1]"
   ]
  },
  {
   "cell_type": "code",
   "execution_count": 16,
   "metadata": {},
   "outputs": [
    {
     "data": {
      "text/plain": [
       "(0.00019990030919458945, 0.00024989885777060294)"
      ]
     },
     "metadata": {},
     "output_type": "display_data"
    }
   ],
   "source": [
    "#square\n",
    "r1 = -1.6208723769030133 - (-1.621072277212208)#L=4\n",
    "r2 = -1.6208723769030133 - (-1.621122275760784)#L=8\n",
    "(r1, r2)"
   ]
  },
  {
   "cell_type": "code",
   "execution_count": 18,
   "metadata": {},
   "outputs": [
    {
     "data": {
      "text/plain": [
       "(0.08845464405588088, 0.08847237289451049)"
      ]
     },
     "metadata": {},
     "output_type": "display_data"
    }
   ],
   "source": [
    "#triangle\n",
    "r1 = -1.9765510227181091 - (-2.06500566677399)#L=4\n",
    "r2 = -1.9765510227181091 - (-2.0650233956126196)#L=12\n",
    "(r1, r2)"
   ]
  }
 ],
 "metadata": {
  "kernelspec": {
   "display_name": "Julia 1.8.2",
   "language": "julia",
   "name": "julia-1.8"
  },
  "language_info": {
   "file_extension": ".jl",
   "mimetype": "application/julia",
   "name": "julia",
   "version": "1.8.2"
  },
  "orig_nbformat": 4
 },
 "nbformat": 4,
 "nbformat_minor": 2
}
